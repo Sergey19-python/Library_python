{
 "cells": [
  {
   "cell_type": "code",
   "execution_count": 1,
   "id": "4aedb961",
   "metadata": {},
   "outputs": [],
   "source": [
    "import numpy as np"
   ]
  },
  {
   "cell_type": "code",
   "execution_count": 2,
   "id": "69bd3f57",
   "metadata": {},
   "outputs": [],
   "source": [
    "a = [i for i in range(10)]"
   ]
  },
  {
   "cell_type": "code",
   "execution_count": 3,
   "id": "6a547487",
   "metadata": {},
   "outputs": [
    {
     "data": {
      "text/plain": [
       "[0, 1, 2, 3, 4, 5, 6, 7, 8, 9]"
      ]
     },
     "execution_count": 3,
     "metadata": {},
     "output_type": "execute_result"
    }
   ],
   "source": [
    "a"
   ]
  },
  {
   "cell_type": "code",
   "execution_count": 4,
   "id": "b781e9a8",
   "metadata": {},
   "outputs": [],
   "source": [
    "b = np.array(a)"
   ]
  },
  {
   "cell_type": "code",
   "execution_count": 5,
   "id": "0b6b184d",
   "metadata": {},
   "outputs": [
    {
     "data": {
      "text/plain": [
       "array([0, 1, 2, 3, 4, 5, 6, 7, 8, 9])"
      ]
     },
     "execution_count": 5,
     "metadata": {},
     "output_type": "execute_result"
    }
   ],
   "source": [
    "b"
   ]
  },
  {
   "cell_type": "code",
   "execution_count": 6,
   "id": "a60b6d5d",
   "metadata": {},
   "outputs": [
    {
     "data": {
      "text/plain": [
       "dtype('int32')"
      ]
     },
     "execution_count": 6,
     "metadata": {},
     "output_type": "execute_result"
    }
   ],
   "source": [
    "b.dtype"
   ]
  },
  {
   "cell_type": "code",
   "execution_count": 7,
   "id": "5abd4946",
   "metadata": {},
   "outputs": [
    {
     "data": {
      "text/plain": [
       "numpy.ndarray"
      ]
     },
     "execution_count": 7,
     "metadata": {},
     "output_type": "execute_result"
    }
   ],
   "source": [
    "type(b)"
   ]
  },
  {
   "cell_type": "code",
   "execution_count": 8,
   "id": "467b8e4b",
   "metadata": {},
   "outputs": [],
   "source": [
    "b = np.array(a, dtype = float)"
   ]
  },
  {
   "cell_type": "code",
   "execution_count": 9,
   "id": "2cc5af8a",
   "metadata": {},
   "outputs": [
    {
     "data": {
      "text/plain": [
       "array([0., 1., 2., 3., 4., 5., 6., 7., 8., 9.])"
      ]
     },
     "execution_count": 9,
     "metadata": {},
     "output_type": "execute_result"
    }
   ],
   "source": [
    "b"
   ]
  },
  {
   "cell_type": "code",
   "execution_count": 10,
   "id": "b636e479",
   "metadata": {},
   "outputs": [],
   "source": [
    "b = np.array(a, dtype = str)"
   ]
  },
  {
   "cell_type": "code",
   "execution_count": 11,
   "id": "c0064fc0",
   "metadata": {},
   "outputs": [
    {
     "data": {
      "text/plain": [
       "array(['0', '1', '2', '3', '4', '5', '6', '7', '8', '9'], dtype='<U1')"
      ]
     },
     "execution_count": 11,
     "metadata": {},
     "output_type": "execute_result"
    }
   ],
   "source": [
    "b"
   ]
  },
  {
   "cell_type": "code",
   "execution_count": 12,
   "id": "01b7434e",
   "metadata": {},
   "outputs": [
    {
     "data": {
      "text/plain": [
       "'0'"
      ]
     },
     "execution_count": 12,
     "metadata": {},
     "output_type": "execute_result"
    }
   ],
   "source": [
    "b[0]"
   ]
  },
  {
   "cell_type": "code",
   "execution_count": 13,
   "id": "2f423af1",
   "metadata": {},
   "outputs": [
    {
     "data": {
      "text/plain": [
       "'8'"
      ]
     },
     "execution_count": 13,
     "metadata": {},
     "output_type": "execute_result"
    }
   ],
   "source": [
    "b[8]"
   ]
  },
  {
   "cell_type": "code",
   "execution_count": 14,
   "id": "b2829359",
   "metadata": {},
   "outputs": [
    {
     "data": {
      "text/plain": [
       "1"
      ]
     },
     "execution_count": 14,
     "metadata": {},
     "output_type": "execute_result"
    }
   ],
   "source": [
    "b.ndim"
   ]
  },
  {
   "cell_type": "code",
   "execution_count": 15,
   "id": "fd5edeae",
   "metadata": {},
   "outputs": [
    {
     "data": {
      "text/plain": [
       "(10,)"
      ]
     },
     "execution_count": 15,
     "metadata": {},
     "output_type": "execute_result"
    }
   ],
   "source": [
    "b.shape"
   ]
  },
  {
   "cell_type": "code",
   "execution_count": 16,
   "id": "c286d569",
   "metadata": {},
   "outputs": [],
   "source": [
    "b = np.array([[0,1,2,3,4,5,6,7,8,9],\n",
    "              [10,11,12,13,14,15,16,17,18,19],\n",
    "              [20,21,22,23,24,25,26,27,28,29]])"
   ]
  },
  {
   "cell_type": "code",
   "execution_count": 17,
   "id": "42145dc9",
   "metadata": {},
   "outputs": [
    {
     "data": {
      "text/plain": [
       "array([[ 0,  1,  2,  3,  4,  5,  6,  7,  8,  9],\n",
       "       [10, 11, 12, 13, 14, 15, 16, 17, 18, 19],\n",
       "       [20, 21, 22, 23, 24, 25, 26, 27, 28, 29]])"
      ]
     },
     "execution_count": 17,
     "metadata": {},
     "output_type": "execute_result"
    }
   ],
   "source": [
    "b"
   ]
  },
  {
   "cell_type": "code",
   "execution_count": 18,
   "id": "69ef0d3a",
   "metadata": {},
   "outputs": [
    {
     "data": {
      "text/plain": [
       "14"
      ]
     },
     "execution_count": 18,
     "metadata": {},
     "output_type": "execute_result"
    }
   ],
   "source": [
    "b[1][4]"
   ]
  },
  {
   "cell_type": "code",
   "execution_count": 19,
   "id": "3ad1ce19",
   "metadata": {},
   "outputs": [
    {
     "data": {
      "text/plain": [
       "27"
      ]
     },
     "execution_count": 19,
     "metadata": {},
     "output_type": "execute_result"
    }
   ],
   "source": [
    "b[2, 7]"
   ]
  },
  {
   "cell_type": "code",
   "execution_count": 20,
   "id": "9053c911",
   "metadata": {},
   "outputs": [
    {
     "data": {
      "text/plain": [
       "array([[ 7,  8,  9],\n",
       "       [17, 18, 19],\n",
       "       [27, 28, 29]])"
      ]
     },
     "execution_count": 20,
     "metadata": {},
     "output_type": "execute_result"
    }
   ],
   "source": [
    "b[0:,7:]"
   ]
  },
  {
   "cell_type": "code",
   "execution_count": 21,
   "id": "938a91e7",
   "metadata": {},
   "outputs": [],
   "source": [
    "c = b[0:,:5].copy()"
   ]
  },
  {
   "cell_type": "code",
   "execution_count": 22,
   "id": "ece12106",
   "metadata": {},
   "outputs": [
    {
     "data": {
      "text/plain": [
       "array([[ 0,  1,  2,  3,  4],\n",
       "       [10, 11, 12, 13, 14],\n",
       "       [20, 21, 22, 23, 24]])"
      ]
     },
     "execution_count": 22,
     "metadata": {},
     "output_type": "execute_result"
    }
   ],
   "source": [
    "c"
   ]
  },
  {
   "cell_type": "code",
   "execution_count": 23,
   "id": "97078f3e",
   "metadata": {},
   "outputs": [],
   "source": [
    "c[2,3] = 555"
   ]
  },
  {
   "cell_type": "code",
   "execution_count": 24,
   "id": "976fd1c3",
   "metadata": {},
   "outputs": [
    {
     "data": {
      "text/plain": [
       "array([[  0,   1,   2,   3,   4],\n",
       "       [ 10,  11,  12,  13,  14],\n",
       "       [ 20,  21,  22, 555,  24]])"
      ]
     },
     "execution_count": 24,
     "metadata": {},
     "output_type": "execute_result"
    }
   ],
   "source": [
    "c"
   ]
  },
  {
   "cell_type": "code",
   "execution_count": 25,
   "id": "db75f430",
   "metadata": {},
   "outputs": [
    {
     "data": {
      "text/plain": [
       "array([[ 0,  1,  2,  3,  4,  5,  6,  7,  8,  9],\n",
       "       [10, 11, 12, 13, 14, 15, 16, 17, 18, 19],\n",
       "       [20, 21, 22, 23, 24, 25, 26, 27, 28, 29]])"
      ]
     },
     "execution_count": 25,
     "metadata": {},
     "output_type": "execute_result"
    }
   ],
   "source": [
    "b"
   ]
  },
  {
   "cell_type": "code",
   "execution_count": 26,
   "id": "2c7ae787",
   "metadata": {},
   "outputs": [],
   "source": [
    "mas = np.array([1,2,3,4], dtype=np.int64)"
   ]
  },
  {
   "cell_type": "code",
   "execution_count": 27,
   "id": "0adb05d1",
   "metadata": {},
   "outputs": [
    {
     "data": {
      "text/plain": [
       "dtype('int64')"
      ]
     },
     "execution_count": 27,
     "metadata": {},
     "output_type": "execute_result"
    }
   ],
   "source": [
    "mas.dtype"
   ]
  },
  {
   "cell_type": "code",
   "execution_count": 28,
   "id": "e200c5bd",
   "metadata": {},
   "outputs": [
    {
     "data": {
      "text/plain": [
       "(4,)"
      ]
     },
     "execution_count": 28,
     "metadata": {},
     "output_type": "execute_result"
    }
   ],
   "source": [
    "mas.shape"
   ]
  },
  {
   "cell_type": "code",
   "execution_count": 29,
   "id": "b5bc022c",
   "metadata": {},
   "outputs": [
    {
     "data": {
      "text/plain": [
       "(3, 10)"
      ]
     },
     "execution_count": 29,
     "metadata": {},
     "output_type": "execute_result"
    }
   ],
   "source": [
    "b.shape"
   ]
  },
  {
   "cell_type": "code",
   "execution_count": 30,
   "id": "de0bb83a",
   "metadata": {},
   "outputs": [
    {
     "data": {
      "text/plain": [
       "2"
      ]
     },
     "execution_count": 30,
     "metadata": {},
     "output_type": "execute_result"
    }
   ],
   "source": [
    "b.ndim"
   ]
  },
  {
   "cell_type": "code",
   "execution_count": 31,
   "id": "4a3cca73",
   "metadata": {},
   "outputs": [
    {
     "data": {
      "text/plain": [
       "30"
      ]
     },
     "execution_count": 31,
     "metadata": {},
     "output_type": "execute_result"
    }
   ],
   "source": [
    "b.size"
   ]
  },
  {
   "cell_type": "markdown",
   "id": "fe249609",
   "metadata": {},
   "source": [
    "### Скалярное произведение векторов"
   ]
  },
  {
   "cell_type": "code",
   "execution_count": 32,
   "id": "45d68783",
   "metadata": {},
   "outputs": [
    {
     "data": {
      "text/plain": [
       "130"
      ]
     },
     "execution_count": 32,
     "metadata": {},
     "output_type": "execute_result"
    }
   ],
   "source": [
    "a = np.array([1,2,3,4,5],dtype =\"int32\")\n",
    "b = np.array([6,7,8,9,10],dtype =\"int32\")\n",
    "sp = np.dot(a,b)\n",
    "sp"
   ]
  },
  {
   "cell_type": "markdown",
   "id": "5d2c5484",
   "metadata": {},
   "source": [
    "### Скалярное умножение числа на вектор"
   ]
  },
  {
   "cell_type": "code",
   "execution_count": 33,
   "id": "77bb1e18",
   "metadata": {},
   "outputs": [
    {
     "data": {
      "text/plain": [
       "array([ -5, -10, -15, -20, -25])"
      ]
     },
     "execution_count": 33,
     "metadata": {},
     "output_type": "execute_result"
    }
   ],
   "source": [
    "a.dot(-5)"
   ]
  },
  {
   "cell_type": "markdown",
   "id": "7ca525be",
   "metadata": {},
   "source": [
    "## Операции с векторами"
   ]
  },
  {
   "cell_type": "markdown",
   "id": "90d41225",
   "metadata": {},
   "source": [
    " Сложение"
   ]
  },
  {
   "cell_type": "code",
   "execution_count": 34,
   "id": "4bee8b4a",
   "metadata": {},
   "outputs": [],
   "source": [
    "a = np.array([0, 1, 2, 3, 4, 5])\n",
    "b = np.array([6, 7, 8, 9, 10, 11])"
   ]
  },
  {
   "cell_type": "code",
   "execution_count": 35,
   "id": "ac490a86",
   "metadata": {},
   "outputs": [],
   "source": [
    "c = a + b"
   ]
  },
  {
   "cell_type": "code",
   "execution_count": 36,
   "id": "a7c4897b",
   "metadata": {},
   "outputs": [
    {
     "data": {
      "text/plain": [
       "array([ 6,  8, 10, 12, 14, 16])"
      ]
     },
     "execution_count": 36,
     "metadata": {},
     "output_type": "execute_result"
    }
   ],
   "source": [
    "c"
   ]
  },
  {
   "cell_type": "code",
   "execution_count": 37,
   "id": "1b3ffba8",
   "metadata": {},
   "outputs": [],
   "source": [
    "c = np.add(a, b)"
   ]
  },
  {
   "cell_type": "code",
   "execution_count": 38,
   "id": "cf56d629",
   "metadata": {},
   "outputs": [
    {
     "data": {
      "text/plain": [
       "array([ 6,  8, 10, 12, 14, 16])"
      ]
     },
     "execution_count": 38,
     "metadata": {},
     "output_type": "execute_result"
    }
   ],
   "source": [
    "c"
   ]
  },
  {
   "cell_type": "markdown",
   "id": "277bdf1f",
   "metadata": {},
   "source": [
    "Вычитание"
   ]
  },
  {
   "cell_type": "code",
   "execution_count": 39,
   "id": "85ed6178",
   "metadata": {},
   "outputs": [],
   "source": [
    "d = np.subtract(a,b)"
   ]
  },
  {
   "cell_type": "code",
   "execution_count": 40,
   "id": "7046c705",
   "metadata": {},
   "outputs": [
    {
     "data": {
      "text/plain": [
       "array([-6, -6, -6, -6, -6, -6])"
      ]
     },
     "execution_count": 40,
     "metadata": {},
     "output_type": "execute_result"
    }
   ],
   "source": [
    "d"
   ]
  },
  {
   "cell_type": "markdown",
   "id": "6799b9cf",
   "metadata": {},
   "source": [
    "Умножение вектра на скаляр (число)"
   ]
  },
  {
   "cell_type": "code",
   "execution_count": 41,
   "id": "0d864685",
   "metadata": {},
   "outputs": [],
   "source": [
    "a = np.array([0, 1, 2, 3, 4, 5])"
   ]
  },
  {
   "cell_type": "code",
   "execution_count": 42,
   "id": "b8915463",
   "metadata": {},
   "outputs": [
    {
     "data": {
      "text/plain": [
       "array([  0, -10, -20, -30, -40, -50])"
      ]
     },
     "execution_count": 42,
     "metadata": {},
     "output_type": "execute_result"
    }
   ],
   "source": [
    "a.dot(-10)"
   ]
  },
  {
   "cell_type": "code",
   "execution_count": 43,
   "id": "bb464597",
   "metadata": {},
   "outputs": [
    {
     "data": {
      "text/plain": [
       "array([  0, -10, -20, -30, -40, -50])"
      ]
     },
     "execution_count": 43,
     "metadata": {},
     "output_type": "execute_result"
    }
   ],
   "source": [
    "np.dot(a,-10)"
   ]
  },
  {
   "cell_type": "markdown",
   "id": "b246933c",
   "metadata": {},
   "source": [
    "Скалярное умножение векторов"
   ]
  },
  {
   "cell_type": "code",
   "execution_count": 44,
   "id": "87171670",
   "metadata": {},
   "outputs": [],
   "source": [
    "a = np.array([0, 1, 2, 3, 4, 5])\n",
    "b = np.array([6, 7, 8, 9, 10, 11])"
   ]
  },
  {
   "cell_type": "code",
   "execution_count": 45,
   "id": "c7369261",
   "metadata": {},
   "outputs": [],
   "source": [
    "sp = a @ b"
   ]
  },
  {
   "cell_type": "code",
   "execution_count": 46,
   "id": "6af52dac",
   "metadata": {},
   "outputs": [
    {
     "data": {
      "text/plain": [
       "145"
      ]
     },
     "execution_count": 46,
     "metadata": {},
     "output_type": "execute_result"
    }
   ],
   "source": [
    "sp"
   ]
  },
  {
   "cell_type": "code",
   "execution_count": 47,
   "id": "b92f46a3",
   "metadata": {},
   "outputs": [
    {
     "data": {
      "text/plain": [
       "145"
      ]
     },
     "execution_count": 47,
     "metadata": {},
     "output_type": "execute_result"
    }
   ],
   "source": [
    "sp = np.dot(a,b)\n",
    "sp"
   ]
  },
  {
   "cell_type": "markdown",
   "id": "e2e45d73",
   "metadata": {},
   "source": [
    "# Операции с матрицами"
   ]
  },
  {
   "cell_type": "markdown",
   "id": "9b8fbf80",
   "metadata": {},
   "source": [
    "### Сложение, вычитание"
   ]
  },
  {
   "cell_type": "code",
   "execution_count": 48,
   "id": "49351787",
   "metadata": {},
   "outputs": [],
   "source": [
    "A = np.array([[23, 34],\n",
    "             [18, 12],\n",
    "             [9, 5]])"
   ]
  },
  {
   "cell_type": "code",
   "execution_count": 49,
   "id": "861e49c2",
   "metadata": {},
   "outputs": [],
   "source": [
    "B = np.array([[45, 22],\n",
    "             [21, 3],\n",
    "             [11, 99]])"
   ]
  },
  {
   "cell_type": "code",
   "execution_count": 50,
   "id": "23540e71",
   "metadata": {},
   "outputs": [
    {
     "data": {
      "text/plain": [
       "array([[ 68,  56],\n",
       "       [ 39,  15],\n",
       "       [ 20, 104]])"
      ]
     },
     "execution_count": 50,
     "metadata": {},
     "output_type": "execute_result"
    }
   ],
   "source": [
    "C = np.add(A, B)\n",
    "C"
   ]
  },
  {
   "cell_type": "code",
   "execution_count": 51,
   "id": "414d79f8",
   "metadata": {},
   "outputs": [
    {
     "data": {
      "text/plain": [
       "array([[ 22, -12],\n",
       "       [  3,  -9],\n",
       "       [  2,  94]])"
      ]
     },
     "execution_count": 51,
     "metadata": {},
     "output_type": "execute_result"
    }
   ],
   "source": [
    "C = np.subtract(B, A)\n",
    "C"
   ]
  },
  {
   "cell_type": "markdown",
   "id": "3cb184a7",
   "metadata": {},
   "source": [
    "### Умножение матрицы на скаляр(число)"
   ]
  },
  {
   "cell_type": "code",
   "execution_count": 52,
   "id": "a72cc6e9",
   "metadata": {},
   "outputs": [
    {
     "data": {
      "text/plain": [
       "array([[12, 45],\n",
       "       [22, 15]])"
      ]
     },
     "execution_count": 52,
     "metadata": {},
     "output_type": "execute_result"
    }
   ],
   "source": [
    "X = np.array([[12, 45],\n",
    "             [22,15]])\n",
    "X"
   ]
  },
  {
   "cell_type": "code",
   "execution_count": 53,
   "id": "fe430a72",
   "metadata": {},
   "outputs": [
    {
     "data": {
      "text/plain": [
       "array([[24, 90],\n",
       "       [44, 30]])"
      ]
     },
     "execution_count": 53,
     "metadata": {},
     "output_type": "execute_result"
    }
   ],
   "source": [
    "Y = X * 2\n",
    "Y"
   ]
  },
  {
   "cell_type": "code",
   "execution_count": 54,
   "id": "519dec4a",
   "metadata": {},
   "outputs": [
    {
     "data": {
      "text/plain": [
       "array([[ 48, 180],\n",
       "       [ 88,  60]])"
      ]
     },
     "execution_count": 54,
     "metadata": {},
     "output_type": "execute_result"
    }
   ],
   "source": [
    "Y = np.dot(X, 4)\n",
    "Y"
   ]
  },
  {
   "cell_type": "markdown",
   "id": "ebfbd453",
   "metadata": {},
   "source": [
    "### Умножение матрицы на матрицу\n",
    "Кол-во столбцов 1 матрицы должно быть равное кол-ву строк 2 матрицы"
   ]
  },
  {
   "cell_type": "code",
   "execution_count": 55,
   "id": "43d2ce2c",
   "metadata": {},
   "outputs": [],
   "source": [
    "A = np.array([[1, 2],\n",
    "             [21, 12],\n",
    "             [34, 7]])\n",
    "\n",
    "B = np.array([[22, 32, 4],\n",
    "             [7, 16, 11]])"
   ]
  },
  {
   "cell_type": "code",
   "execution_count": 56,
   "id": "4c9570fd",
   "metadata": {},
   "outputs": [
    {
     "data": {
      "text/plain": [
       "array([[  36,   64,   26],\n",
       "       [ 546,  864,  216],\n",
       "       [ 797, 1200,  213]])"
      ]
     },
     "execution_count": 56,
     "metadata": {},
     "output_type": "execute_result"
    }
   ],
   "source": [
    "Z = np.dot(A, B)\n",
    "Z"
   ]
  },
  {
   "cell_type": "markdown",
   "id": "84419aed",
   "metadata": {},
   "source": [
    "### Возведение матрицы в квадрат (матрица должна быть квадратная 2x2, 3x3 и тд.)"
   ]
  },
  {
   "cell_type": "code",
   "execution_count": 57,
   "id": "6c2f51e3",
   "metadata": {},
   "outputs": [],
   "source": [
    "A = np.array([[1, 12, 21],\n",
    "             [11, 3, 5],\n",
    "             [8, 6, 9]])"
   ]
  },
  {
   "cell_type": "code",
   "execution_count": 58,
   "id": "fb920231",
   "metadata": {},
   "outputs": [
    {
     "data": {
      "text/plain": [
       "array([[301, 174, 270],\n",
       "       [ 84, 171, 291],\n",
       "       [146, 168, 279]])"
      ]
     },
     "execution_count": 58,
     "metadata": {},
     "output_type": "execute_result"
    }
   ],
   "source": [
    "A_square = np.dot(A, A)\n",
    "A_square"
   ]
  },
  {
   "cell_type": "code",
   "execution_count": 59,
   "id": "af5d0151",
   "metadata": {},
   "outputs": [
    {
     "data": {
      "text/plain": [
       "array([[301, 174, 270],\n",
       "       [ 84, 171, 291],\n",
       "       [146, 168, 279]])"
      ]
     },
     "execution_count": 59,
     "metadata": {},
     "output_type": "execute_result"
    }
   ],
   "source": [
    "A_square = np.linalg.matrix_power(A, 2)\n",
    "A_square"
   ]
  },
  {
   "cell_type": "markdown",
   "id": "ac362b47",
   "metadata": {},
   "source": [
    "### Создание и использование единичной матрицы.\n",
    "Квадратная матрица с 1 на главной диагонали и остальными нулями. При умножении подходящей по размеру матрицы на единичную\n",
    "матрица не меняется."
   ]
  },
  {
   "cell_type": "code",
   "execution_count": 60,
   "id": "29c05a76",
   "metadata": {},
   "outputs": [
    {
     "data": {
      "text/plain": [
       "array([[1., 0., 0.],\n",
       "       [0., 1., 0.],\n",
       "       [0., 0., 1.]])"
      ]
     },
     "execution_count": 60,
     "metadata": {},
     "output_type": "execute_result"
    }
   ],
   "source": [
    "I = np.eye(3)\n",
    "I"
   ]
  },
  {
   "cell_type": "code",
   "execution_count": 61,
   "id": "aa697012",
   "metadata": {},
   "outputs": [],
   "source": [
    "A = np.array([[1, 2, 3],\n",
    "             [4, 5, 6]])"
   ]
  },
  {
   "cell_type": "code",
   "execution_count": 62,
   "id": "08fa8cb7",
   "metadata": {},
   "outputs": [
    {
     "data": {
      "text/plain": [
       "array([[1., 2., 3.],\n",
       "       [4., 5., 6.]])"
      ]
     },
     "execution_count": 62,
     "metadata": {},
     "output_type": "execute_result"
    }
   ],
   "source": [
    "np.dot(A, I)"
   ]
  },
  {
   "cell_type": "code",
   "execution_count": 63,
   "id": "435bf467",
   "metadata": {},
   "outputs": [
    {
     "data": {
      "text/plain": [
       "array([[1., 0.],\n",
       "       [0., 1.]])"
      ]
     },
     "execution_count": 63,
     "metadata": {},
     "output_type": "execute_result"
    }
   ],
   "source": [
    "I = np.eye(2)\n",
    "I"
   ]
  },
  {
   "cell_type": "code",
   "execution_count": 64,
   "id": "1060f9d2",
   "metadata": {},
   "outputs": [
    {
     "data": {
      "text/plain": [
       "array([[1., 2., 3.],\n",
       "       [4., 5., 6.]])"
      ]
     },
     "execution_count": 64,
     "metadata": {},
     "output_type": "execute_result"
    }
   ],
   "source": [
    "np.dot(I, A)"
   ]
  },
  {
   "cell_type": "markdown",
   "id": "b9c8933c",
   "metadata": {},
   "source": [
    "### Транспонирование матрицы"
   ]
  },
  {
   "cell_type": "code",
   "execution_count": 65,
   "id": "37a7963c",
   "metadata": {},
   "outputs": [],
   "source": [
    "A = np.array([[1, 12],\n",
    "             [11, 3],\n",
    "             [8, 6]])"
   ]
  },
  {
   "cell_type": "code",
   "execution_count": 66,
   "id": "b61674b1",
   "metadata": {},
   "outputs": [
    {
     "data": {
      "text/plain": [
       "array([[ 1, 11,  8],\n",
       "       [12,  3,  6]])"
      ]
     },
     "execution_count": 66,
     "metadata": {},
     "output_type": "execute_result"
    }
   ],
   "source": [
    "At = A.transpose()\n",
    "At"
   ]
  },
  {
   "cell_type": "code",
   "execution_count": 67,
   "id": "9c75a5cb",
   "metadata": {},
   "outputs": [
    {
     "data": {
      "text/plain": [
       "array([[ 1, 11,  8],\n",
       "       [12,  3,  6]])"
      ]
     },
     "execution_count": 67,
     "metadata": {},
     "output_type": "execute_result"
    }
   ],
   "source": [
    "At = A.T\n",
    "At"
   ]
  },
  {
   "cell_type": "markdown",
   "id": "53bc73f0",
   "metadata": {},
   "source": [
    "Пример применения транспонирования матрицы (после транспонирования матрицы умножение возможно)"
   ]
  },
  {
   "cell_type": "code",
   "execution_count": 68,
   "id": "2e46bcfd",
   "metadata": {},
   "outputs": [],
   "source": [
    "X = np.array([[1, 2],\n",
    "             [3, 4],\n",
    "             [5, 6]])\n",
    "\n",
    "Y = np.array([[3, 4],\n",
    "             [5, 6],\n",
    "             [7, 8],\n",
    "             [2, 9]])"
   ]
  },
  {
   "cell_type": "code",
   "execution_count": 69,
   "id": "a6a12f27",
   "metadata": {},
   "outputs": [
    {
     "data": {
      "text/plain": [
       "array([[3, 5, 7, 2],\n",
       "       [4, 6, 8, 9]])"
      ]
     },
     "execution_count": 69,
     "metadata": {},
     "output_type": "execute_result"
    }
   ],
   "source": [
    "Yt = Y.T\n",
    "Yt"
   ]
  },
  {
   "cell_type": "code",
   "execution_count": 70,
   "id": "72901040",
   "metadata": {},
   "outputs": [
    {
     "data": {
      "text/plain": [
       "array([[11, 17, 23, 20],\n",
       "       [25, 39, 53, 42],\n",
       "       [39, 61, 83, 64]])"
      ]
     },
     "execution_count": 70,
     "metadata": {},
     "output_type": "execute_result"
    }
   ],
   "source": [
    "np.dot(X, Yt)"
   ]
  },
  {
   "cell_type": "markdown",
   "id": "b2c8deec",
   "metadata": {},
   "source": [
    " ### Вычисление определителя и ранга матрицы \n",
    "    (Определитель можно найти только у квадратных матриц, ранг у всех)"
   ]
  },
  {
   "cell_type": "code",
   "execution_count": 74,
   "id": "6c454bc1",
   "metadata": {},
   "outputs": [],
   "source": [
    "A = np.array([[0, 2, 3],\n",
    "             [4, 5, 6],\n",
    "             [7, 8, 9]])"
   ]
  },
  {
   "cell_type": "code",
   "execution_count": 76,
   "id": "e0432523",
   "metadata": {},
   "outputs": [
    {
     "data": {
      "text/plain": [
       "2.9999999999999982"
      ]
     },
     "execution_count": 76,
     "metadata": {},
     "output_type": "execute_result"
    }
   ],
   "source": [
    "np.linalg.det(A)"
   ]
  },
  {
   "cell_type": "code",
   "execution_count": 78,
   "id": "f7bca03c",
   "metadata": {},
   "outputs": [
    {
     "data": {
      "text/plain": [
       "3"
      ]
     },
     "execution_count": 78,
     "metadata": {},
     "output_type": "execute_result"
    }
   ],
   "source": [
    "np.linalg.matrix_rank(A)"
   ]
  },
  {
   "cell_type": "code",
   "execution_count": 79,
   "id": "32ab1bb3",
   "metadata": {},
   "outputs": [],
   "source": [
    "B = np.array([[0, 2, 3],\n",
    "             [4, 5, 6]])"
   ]
  },
  {
   "cell_type": "code",
   "execution_count": 81,
   "id": "f9e79c2b",
   "metadata": {},
   "outputs": [
    {
     "data": {
      "text/plain": [
       "2"
      ]
     },
     "execution_count": 81,
     "metadata": {},
     "output_type": "execute_result"
    }
   ],
   "source": [
    "np.linalg.matrix_rank(B)"
   ]
  },
  {
   "cell_type": "markdown",
   "id": "3c50a091",
   "metadata": {},
   "source": [
    "### Вычисление обратной матрицы"
   ]
  },
  {
   "cell_type": "code",
   "execution_count": 82,
   "id": "9476fa6f",
   "metadata": {},
   "outputs": [],
   "source": [
    "C = np.array([[1, 2, 3],\n",
    "             [5, 6, 8],\n",
    "             [2, 12, 21]])"
   ]
  },
  {
   "cell_type": "code",
   "execution_count": 84,
   "id": "6ed7e74e",
   "metadata": {},
   "outputs": [
    {
     "data": {
      "text/plain": [
       "array([[ -7.5 ,   1.5 ,   0.5 ],\n",
       "       [ 22.25,  -3.75,  -1.75],\n",
       "       [-12.  ,   2.  ,   1.  ]])"
      ]
     },
     "execution_count": 84,
     "metadata": {},
     "output_type": "execute_result"
    }
   ],
   "source": [
    "C_inv = np.linalg.inv(C)\n",
    "C_inv"
   ]
  },
  {
   "cell_type": "code",
   "execution_count": 87,
   "id": "018d017c",
   "metadata": {},
   "outputs": [
    {
     "data": {
      "text/plain": [
       "array([[ 1.,  2.,  3.],\n",
       "       [ 5.,  6.,  8.],\n",
       "       [ 2., 12., 21.]])"
      ]
     },
     "execution_count": 87,
     "metadata": {},
     "output_type": "execute_result"
    }
   ],
   "source": [
    "C_inv_2 = np.linalg.inv(C_inv)\n",
    "C_inv_2"
   ]
  },
  {
   "cell_type": "markdown",
   "id": "8fb4627f",
   "metadata": {},
   "source": [
    "# Генерирование массивов"
   ]
  },
  {
   "cell_type": "markdown",
   "id": "82047b2b",
   "metadata": {},
   "source": [
    "Генерация массива с нулями"
   ]
  },
  {
   "cell_type": "code",
   "execution_count": 89,
   "id": "21038852",
   "metadata": {},
   "outputs": [
    {
     "data": {
      "text/plain": [
       "array([[0., 0., 0., 0.],\n",
       "       [0., 0., 0., 0.],\n",
       "       [0., 0., 0., 0.]])"
      ]
     },
     "execution_count": 89,
     "metadata": {},
     "output_type": "execute_result"
    }
   ],
   "source": [
    "A = np.zeros((3, 4))\n",
    "A"
   ]
  },
  {
   "cell_type": "markdown",
   "id": "81c81d5e",
   "metadata": {},
   "source": [
    "Генерация массива с единицами"
   ]
  },
  {
   "cell_type": "code",
   "execution_count": 91,
   "id": "8a033a1f",
   "metadata": {},
   "outputs": [
    {
     "data": {
      "text/plain": [
       "array([[1., 1., 1., 1., 1.],\n",
       "       [1., 1., 1., 1., 1.]])"
      ]
     },
     "execution_count": 91,
     "metadata": {},
     "output_type": "execute_result"
    }
   ],
   "source": [
    "B = np.ones((2,5))\n",
    "B"
   ]
  },
  {
   "cell_type": "markdown",
   "id": "cc2f3c52",
   "metadata": {},
   "source": [
    "Генерация массива последовательности"
   ]
  },
  {
   "cell_type": "code",
   "execution_count": 94,
   "id": "275185f2",
   "metadata": {},
   "outputs": [
    {
     "data": {
      "text/plain": [
       "array([0, 1, 2, 3, 4, 5, 6, 7, 8, 9])"
      ]
     },
     "execution_count": 94,
     "metadata": {},
     "output_type": "execute_result"
    }
   ],
   "source": [
    "C = np.arange(10)\n",
    "C"
   ]
  },
  {
   "cell_type": "code",
   "execution_count": 99,
   "id": "e97a3ee1",
   "metadata": {},
   "outputs": [
    {
     "data": {
      "text/plain": [
       "array([10,  9,  8,  7,  6,  5,  4,  3,  2,  1])"
      ]
     },
     "execution_count": 99,
     "metadata": {},
     "output_type": "execute_result"
    }
   ],
   "source": [
    "C = np.arange(10, 0, -1)\n",
    "C"
   ]
  },
  {
   "cell_type": "markdown",
   "id": "e7b035e4",
   "metadata": {},
   "source": [
    "linspace- правая граница будет включена, вместо шага указываем кол-во элементов."
   ]
  },
  {
   "cell_type": "code",
   "execution_count": 104,
   "id": "73d8e197",
   "metadata": {},
   "outputs": [
    {
     "data": {
      "text/plain": [
       "array([0. , 0.1, 0.2, 0.3, 0.4, 0.5, 0.6, 0.7, 0.8, 0.9, 1. , 1.1, 1.2,\n",
       "       1.3, 1.4, 1.5, 1.6, 1.7, 1.8, 1.9, 2. , 2.1, 2.2, 2.3, 2.4, 2.5,\n",
       "       2.6, 2.7, 2.8, 2.9, 3. , 3.1, 3.2, 3.3, 3.4, 3.5, 3.6, 3.7, 3.8,\n",
       "       3.9, 4. , 4.1, 4.2, 4.3, 4.4, 4.5, 4.6, 4.7, 4.8, 4.9, 5. , 5.1,\n",
       "       5.2, 5.3, 5.4, 5.5, 5.6, 5.7, 5.8, 5.9, 6. , 6.1, 6.2, 6.3, 6.4,\n",
       "       6.5, 6.6, 6.7, 6.8, 6.9, 7. , 7.1, 7.2, 7.3, 7.4, 7.5, 7.6, 7.7,\n",
       "       7.8, 7.9, 8. , 8.1, 8.2, 8.3, 8.4, 8.5, 8.6, 8.7, 8.8, 8.9, 9. ,\n",
       "       9.1, 9.2, 9.3, 9.4, 9.5, 9.6, 9.7, 9.8, 9.9])"
      ]
     },
     "execution_count": 104,
     "metadata": {},
     "output_type": "execute_result"
    }
   ],
   "source": [
    "np.linspace(0, 9.9, 100)"
   ]
  },
  {
   "cell_type": "markdown",
   "id": "0f29df8b",
   "metadata": {},
   "source": [
    "Logspace - не сами числа, а степени числа 10"
   ]
  },
  {
   "cell_type": "code",
   "execution_count": 108,
   "id": "ddd94b31",
   "metadata": {},
   "outputs": [
    {
     "data": {
      "text/plain": [
       "array([   1.,   10.,  100., 1000.])"
      ]
     },
     "execution_count": 108,
     "metadata": {},
     "output_type": "execute_result"
    }
   ],
   "source": [
    "np.logspace(0, 3, 4)"
   ]
  },
  {
   "cell_type": "markdown",
   "id": "c83029bd",
   "metadata": {},
   "source": [
    "### Генерация случайных чисел"
   ]
  },
  {
   "cell_type": "markdown",
   "id": "82430859",
   "metadata": {},
   "source": [
    "np.random.sample - случайные дробные числа от 0 до 1"
   ]
  },
  {
   "cell_type": "code",
   "execution_count": 111,
   "id": "4ff8464e",
   "metadata": {},
   "outputs": [
    {
     "data": {
      "text/plain": [
       "array([0.20675257, 0.55565523, 0.1278292 ])"
      ]
     },
     "execution_count": 111,
     "metadata": {},
     "output_type": "execute_result"
    }
   ],
   "source": [
    "np.random.sample(3)"
   ]
  },
  {
   "cell_type": "code",
   "execution_count": 115,
   "id": "44072c64",
   "metadata": {},
   "outputs": [
    {
     "data": {
      "text/plain": [
       "array([[0.82502343, 0.33198086, 0.70606366, 0.42672973],\n",
       "       [0.29411987, 0.11280781, 0.39057825, 0.25466841],\n",
       "       [0.08907058, 0.16562371, 0.97476401, 0.93618431]])"
      ]
     },
     "execution_count": 115,
     "metadata": {},
     "output_type": "execute_result"
    }
   ],
   "source": [
    "np.random.sample((3, 4))"
   ]
  },
  {
   "cell_type": "markdown",
   "id": "0d4c7eb6",
   "metadata": {},
   "source": [
    "Массив 48x64x3 - это может быть изображение с высотой 48, шириной 64\n",
    "и значениями яркости 3 цветов для каждого пикселя (кол-во цветов)"
   ]
  },
  {
   "cell_type": "code",
   "execution_count": 117,
   "id": "2529dd7b",
   "metadata": {},
   "outputs": [
    {
     "data": {
      "text/plain": [
       "array([[[0.30943358, 0.23650231, 0.42297086],\n",
       "        [0.1414395 , 0.1850758 , 0.92175036],\n",
       "        [0.27514151, 0.63310825, 0.45369002],\n",
       "        ...,\n",
       "        [0.19013061, 0.57613815, 0.6025988 ],\n",
       "        [0.9837879 , 0.67375762, 0.68984506],\n",
       "        [0.35401728, 0.72809301, 0.71054792]],\n",
       "\n",
       "       [[0.03713431, 0.64770007, 0.50055584],\n",
       "        [0.80007309, 0.29877004, 0.04599972],\n",
       "        [0.51031062, 0.61602695, 0.22286025],\n",
       "        ...,\n",
       "        [0.49084995, 0.16851428, 0.72160716],\n",
       "        [0.14664111, 0.76440223, 0.27998261],\n",
       "        [0.22769104, 0.14190986, 0.10719685]],\n",
       "\n",
       "       [[0.3649238 , 0.79579306, 0.17496368],\n",
       "        [0.27067574, 0.59814708, 0.5728186 ],\n",
       "        [0.83628361, 0.89941204, 0.06358745],\n",
       "        ...,\n",
       "        [0.28882052, 0.6383182 , 0.35359166],\n",
       "        [0.78951818, 0.0596469 , 0.00381761],\n",
       "        [0.78050463, 0.88018659, 0.17717286]],\n",
       "\n",
       "       ...,\n",
       "\n",
       "       [[0.55426803, 0.33635546, 0.89099476],\n",
       "        [0.46457919, 0.26424874, 0.3002709 ],\n",
       "        [0.84029077, 0.79115575, 0.30701094],\n",
       "        ...,\n",
       "        [0.21035864, 0.6223007 , 0.11849376],\n",
       "        [0.72517077, 0.01742043, 0.61874064],\n",
       "        [0.70343584, 0.17406214, 0.76001787]],\n",
       "\n",
       "       [[0.3747417 , 0.67922764, 0.16862845],\n",
       "        [0.07947815, 0.69110209, 0.08133509],\n",
       "        [0.20924611, 0.23406153, 0.42146547],\n",
       "        ...,\n",
       "        [0.20956761, 0.85246645, 0.71158103],\n",
       "        [0.26562852, 0.24746911, 0.1271562 ],\n",
       "        [0.59276698, 0.83959052, 0.48819035]],\n",
       "\n",
       "       [[0.57523147, 0.32740663, 0.56798313],\n",
       "        [0.37185531, 0.49414771, 0.79400628],\n",
       "        [0.01099076, 0.19281946, 0.98985584],\n",
       "        ...,\n",
       "        [0.25616411, 0.52570604, 0.52146357],\n",
       "        [0.34277838, 0.39784641, 0.83847149],\n",
       "        [0.13909632, 0.55825419, 0.85404213]]])"
      ]
     },
     "execution_count": 117,
     "metadata": {},
     "output_type": "execute_result"
    }
   ],
   "source": [
    "np.random.sample((48, 64, 3))"
   ]
  },
  {
   "cell_type": "markdown",
   "id": "3753e5dd",
   "metadata": {},
   "source": [
    "np.random.randn - случайные числа с нормальным распределением\n",
    "(среднее значение = 0, среднеквадратичное отклонение = 1)"
   ]
  },
  {
   "cell_type": "code",
   "execution_count": 121,
   "id": "1b4703aa",
   "metadata": {},
   "outputs": [
    {
     "data": {
      "text/plain": [
       "array([-0.45993671, -0.69325312])"
      ]
     },
     "execution_count": 121,
     "metadata": {},
     "output_type": "execute_result"
    }
   ],
   "source": [
    "np.random.randn(2)"
   ]
  },
  {
   "cell_type": "code",
   "execution_count": 124,
   "id": "cfafc32d",
   "metadata": {},
   "outputs": [
    {
     "data": {
      "text/plain": [
       "array([[ 0.76202117,  1.26726772],\n",
       "       [-2.48236021, -0.67491365],\n",
       "       [ 1.78654253, -0.71408797]])"
      ]
     },
     "execution_count": 124,
     "metadata": {},
     "output_type": "execute_result"
    }
   ],
   "source": [
    "np.random.randn(3, 2)"
   ]
  },
  {
   "cell_type": "markdown",
   "id": "8331666d",
   "metadata": {},
   "source": [
    "np.random.randint - случайные целые числа"
   ]
  },
  {
   "cell_type": "code",
   "execution_count": 126,
   "id": "7c540baf",
   "metadata": {},
   "outputs": [
    {
     "data": {
      "text/plain": [
       "array([19, 54, 76, 73, 90, 38,  0, 36, 45, 27])"
      ]
     },
     "execution_count": 126,
     "metadata": {},
     "output_type": "execute_result"
    }
   ],
   "source": [
    "np.random.randint(0, 100, 10)"
   ]
  },
  {
   "cell_type": "code",
   "execution_count": 128,
   "id": "f347ed8c",
   "metadata": {},
   "outputs": [
    {
     "data": {
      "text/plain": [
       "array([[ 1,  4,  4,  9],\n",
       "       [ 5, 10,  4, 10],\n",
       "       [ 1, 10,  3,  4]])"
      ]
     },
     "execution_count": 128,
     "metadata": {},
     "output_type": "execute_result"
    }
   ],
   "source": [
    "np.random.randint(1, 11, (3, 4))"
   ]
  },
  {
   "cell_type": "markdown",
   "id": "b68de716",
   "metadata": {},
   "source": [
    "### numpy.random.choice\n",
    "позволяет выбрать случайный элемент из массива или несколько."
   ]
  },
  {
   "cell_type": "code",
   "execution_count": 131,
   "id": "4221a325",
   "metadata": {},
   "outputs": [
    {
     "data": {
      "text/plain": [
       "array([ 0,  1,  2,  3,  4,  5,  6,  7,  8,  9, 10])"
      ]
     },
     "execution_count": 131,
     "metadata": {},
     "output_type": "execute_result"
    }
   ],
   "source": [
    "A = np.arange(11)\n",
    "A"
   ]
  },
  {
   "cell_type": "code",
   "execution_count": 136,
   "id": "b1d23f19",
   "metadata": {},
   "outputs": [
    {
     "data": {
      "text/plain": [
       "7"
      ]
     },
     "execution_count": 136,
     "metadata": {},
     "output_type": "execute_result"
    }
   ],
   "source": [
    "np.random.choice(A)"
   ]
  },
  {
   "cell_type": "code",
   "execution_count": 140,
   "id": "97d20634",
   "metadata": {},
   "outputs": [
    {
     "data": {
      "text/plain": [
       "array([1, 7, 1])"
      ]
     },
     "execution_count": 140,
     "metadata": {},
     "output_type": "execute_result"
    }
   ],
   "source": [
    "np.random.choice(A, 3)"
   ]
  },
  {
   "cell_type": "markdown",
   "id": "0508a61d",
   "metadata": {},
   "source": [
    "### Изменение формы массива"
   ]
  },
  {
   "cell_type": "code",
   "execution_count": 143,
   "id": "49f73fd5",
   "metadata": {},
   "outputs": [
    {
     "data": {
      "text/plain": [
       "array([ 0,  1,  2,  3,  4,  5,  6,  7,  8,  9, 10, 11])"
      ]
     },
     "execution_count": 143,
     "metadata": {},
     "output_type": "execute_result"
    }
   ],
   "source": [
    "a = np.arange(12)\n",
    "a"
   ]
  },
  {
   "cell_type": "code",
   "execution_count": 146,
   "id": "5e370f32",
   "metadata": {},
   "outputs": [
    {
     "data": {
      "text/plain": [
       "array([[ 0,  1,  2,  3],\n",
       "       [ 4,  5,  6,  7],\n",
       "       [ 8,  9, 10, 11]])"
      ]
     },
     "execution_count": 146,
     "metadata": {},
     "output_type": "execute_result"
    }
   ],
   "source": [
    "a.reshape(3, 4)"
   ]
  },
  {
   "cell_type": "code",
   "execution_count": 150,
   "id": "463372c4",
   "metadata": {},
   "outputs": [
    {
     "data": {
      "text/plain": [
       "array([[ 0,  1,  2,  3],\n",
       "       [ 4,  5,  6,  7],\n",
       "       [ 8,  9, 10, 11]])"
      ]
     },
     "execution_count": 150,
     "metadata": {},
     "output_type": "execute_result"
    }
   ],
   "source": [
    "# Когда известно кол-во строк, и не известно кол-во столбцов указываем -1 и функция сама создат массив нужного размера\n",
    "\n",
    "np.reshape(a, (3, -1))"
   ]
  },
  {
   "cell_type": "code",
   "execution_count": 153,
   "id": "5dfe6797",
   "metadata": {},
   "outputs": [
    {
     "data": {
      "text/plain": [
       "array([[ 0,  1,  2],\n",
       "       [ 3,  4,  5],\n",
       "       [ 6,  7,  8],\n",
       "       [ 9, 10, 11]])"
      ]
     },
     "execution_count": 153,
     "metadata": {},
     "output_type": "execute_result"
    }
   ],
   "source": [
    "# Когда неизвестно кол-во строк, но известно требуемое кол-во столбцов, также пишем -1\n",
    "np.reshape(a,(-1, 3))"
   ]
  },
  {
   "cell_type": "code",
   "execution_count": 155,
   "id": "c6ae954b",
   "metadata": {},
   "outputs": [
    {
     "data": {
      "text/plain": [
       "array([[ 0,  1,  2,  3],\n",
       "       [ 4,  5,  6,  7],\n",
       "       [ 8,  9, 10, 11]])"
      ]
     },
     "execution_count": 155,
     "metadata": {},
     "output_type": "execute_result"
    }
   ],
   "source": [
    "a.resize(3, 4)\n",
    "a"
   ]
  },
  {
   "cell_type": "markdown",
   "id": "9aa9060e",
   "metadata": {},
   "source": [
    "#### Получение одномерного массива из многомерного"
   ]
  },
  {
   "cell_type": "code",
   "execution_count": 157,
   "id": "7306f474",
   "metadata": {},
   "outputs": [
    {
     "data": {
      "text/plain": [
       "array([ 0,  1,  2,  3,  4,  5,  6,  7,  8,  9, 10, 11])"
      ]
     },
     "execution_count": 157,
     "metadata": {},
     "output_type": "execute_result"
    }
   ],
   "source": [
    "a = a.flatten()\n",
    "a"
   ]
  },
  {
   "cell_type": "markdown",
   "id": "4d6da4d2",
   "metadata": {},
   "source": [
    "### Соединение массивов\n",
    "Для примера возьмём два массива а и b"
   ]
  },
  {
   "cell_type": "code",
   "execution_count": 162,
   "id": "9e746567",
   "metadata": {},
   "outputs": [
    {
     "data": {
      "text/plain": [
       "array([[0., 0., 0.],\n",
       "       [0., 0., 0.]])"
      ]
     },
     "execution_count": 162,
     "metadata": {},
     "output_type": "execute_result"
    }
   ],
   "source": [
    "a = np.zeros((2, 3))\n",
    "a"
   ]
  },
  {
   "cell_type": "code",
   "execution_count": 165,
   "id": "17f8f922",
   "metadata": {},
   "outputs": [
    {
     "data": {
      "text/plain": [
       "array([[1., 1., 1.],\n",
       "       [1., 1., 1.]])"
      ]
     },
     "execution_count": 165,
     "metadata": {},
     "output_type": "execute_result"
    }
   ],
   "source": [
    "b = np.ones((2, 3))\n",
    "b"
   ]
  },
  {
   "cell_type": "code",
   "execution_count": 167,
   "id": "315cc9fa",
   "metadata": {},
   "outputs": [
    {
     "data": {
      "text/plain": [
       "array([[0., 0., 0.],\n",
       "       [0., 0., 0.],\n",
       "       [1., 1., 1.],\n",
       "       [1., 1., 1.]])"
      ]
     },
     "execution_count": 167,
     "metadata": {},
     "output_type": "execute_result"
    }
   ],
   "source": [
    "# Соединение строк вертикально\n",
    "v = np.vstack((a, b))\n",
    "v"
   ]
  },
  {
   "cell_type": "code",
   "execution_count": 168,
   "id": "6f8fab80",
   "metadata": {},
   "outputs": [
    {
     "data": {
      "text/plain": [
       "array([[0., 0., 0., 1., 1., 1.],\n",
       "       [0., 0., 0., 1., 1., 1.]])"
      ]
     },
     "execution_count": 168,
     "metadata": {},
     "output_type": "execute_result"
    }
   ],
   "source": [
    "# Соединяем строки горизонтально\n",
    "w = np.hstack((a, b))\n",
    "w"
   ]
  },
  {
   "cell_type": "code",
   "execution_count": 169,
   "id": "4e1e9cce",
   "metadata": {},
   "outputs": [
    {
     "data": {
      "text/plain": [
       "((2, 3), (2, 3), (2, 6))"
      ]
     },
     "execution_count": 169,
     "metadata": {},
     "output_type": "execute_result"
    }
   ],
   "source": [
    "a.shape, b.shape, w.shape"
   ]
  },
  {
   "cell_type": "code",
   "execution_count": 171,
   "id": "b6507a98",
   "metadata": {},
   "outputs": [
    {
     "data": {
      "text/plain": [
       "array([[[0., 1.],\n",
       "        [0., 1.],\n",
       "        [0., 1.]],\n",
       "\n",
       "       [[0., 1.],\n",
       "        [0., 1.],\n",
       "        [0., 1.]]])"
      ]
     },
     "execution_count": 171,
     "metadata": {},
     "output_type": "execute_result"
    }
   ],
   "source": [
    "# Соединение в глубину (в третьем измерении)\n",
    "r = np.dstack([a, b])\n",
    "r"
   ]
  },
  {
   "cell_type": "code",
   "execution_count": 172,
   "id": "902bfb44",
   "metadata": {},
   "outputs": [
    {
     "data": {
      "text/plain": [
       "(2, 3, 2)"
      ]
     },
     "execution_count": 172,
     "metadata": {},
     "output_type": "execute_result"
    }
   ],
   "source": [
    "r.shape"
   ]
  },
  {
   "cell_type": "code",
   "execution_count": null,
   "id": "d8db5f2d",
   "metadata": {},
   "outputs": [],
   "source": []
  }
 ],
 "metadata": {
  "kernelspec": {
   "display_name": "Python 3 (ipykernel)",
   "language": "python",
   "name": "python3"
  },
  "language_info": {
   "codemirror_mode": {
    "name": "ipython",
    "version": 3
   },
   "file_extension": ".py",
   "mimetype": "text/x-python",
   "name": "python",
   "nbconvert_exporter": "python",
   "pygments_lexer": "ipython3",
   "version": "3.11.5"
  }
 },
 "nbformat": 4,
 "nbformat_minor": 5
}
