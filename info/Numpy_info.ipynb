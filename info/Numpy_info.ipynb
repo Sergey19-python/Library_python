{
 "cells": [
  {
   "cell_type": "code",
   "execution_count": 195,
   "id": "4aedb961",
   "metadata": {},
   "outputs": [],
   "source": [
    "import numpy as np"
   ]
  },
  {
   "cell_type": "code",
   "execution_count": 196,
   "id": "69bd3f57",
   "metadata": {},
   "outputs": [],
   "source": [
    "a = [i for i in range(10)]"
   ]
  },
  {
   "cell_type": "code",
   "execution_count": 197,
   "id": "6a547487",
   "metadata": {},
   "outputs": [
    {
     "data": {
      "text/plain": [
       "[0, 1, 2, 3, 4, 5, 6, 7, 8, 9]"
      ]
     },
     "execution_count": 197,
     "metadata": {},
     "output_type": "execute_result"
    }
   ],
   "source": [
    "a"
   ]
  },
  {
   "cell_type": "code",
   "execution_count": 198,
   "id": "b781e9a8",
   "metadata": {},
   "outputs": [],
   "source": [
    "b = np.array(a)"
   ]
  },
  {
   "cell_type": "code",
   "execution_count": 199,
   "id": "0b6b184d",
   "metadata": {},
   "outputs": [
    {
     "data": {
      "text/plain": [
       "array([0, 1, 2, 3, 4, 5, 6, 7, 8, 9])"
      ]
     },
     "execution_count": 199,
     "metadata": {},
     "output_type": "execute_result"
    }
   ],
   "source": [
    "b"
   ]
  },
  {
   "cell_type": "code",
   "execution_count": 200,
   "id": "a60b6d5d",
   "metadata": {},
   "outputs": [
    {
     "data": {
      "text/plain": [
       "dtype('int32')"
      ]
     },
     "execution_count": 200,
     "metadata": {},
     "output_type": "execute_result"
    }
   ],
   "source": [
    "b.dtype"
   ]
  },
  {
   "cell_type": "code",
   "execution_count": 201,
   "id": "5abd4946",
   "metadata": {},
   "outputs": [
    {
     "data": {
      "text/plain": [
       "numpy.ndarray"
      ]
     },
     "execution_count": 201,
     "metadata": {},
     "output_type": "execute_result"
    }
   ],
   "source": [
    "type(b)"
   ]
  },
  {
   "cell_type": "code",
   "execution_count": 202,
   "id": "467b8e4b",
   "metadata": {},
   "outputs": [],
   "source": [
    "b = np.array(a, dtype = float)"
   ]
  },
  {
   "cell_type": "code",
   "execution_count": 203,
   "id": "2cc5af8a",
   "metadata": {},
   "outputs": [
    {
     "data": {
      "text/plain": [
       "array([0., 1., 2., 3., 4., 5., 6., 7., 8., 9.])"
      ]
     },
     "execution_count": 203,
     "metadata": {},
     "output_type": "execute_result"
    }
   ],
   "source": [
    "b"
   ]
  },
  {
   "cell_type": "code",
   "execution_count": 204,
   "id": "b636e479",
   "metadata": {},
   "outputs": [],
   "source": [
    "b = np.array(a, dtype = str)"
   ]
  },
  {
   "cell_type": "code",
   "execution_count": 205,
   "id": "c0064fc0",
   "metadata": {},
   "outputs": [
    {
     "data": {
      "text/plain": [
       "array(['0', '1', '2', '3', '4', '5', '6', '7', '8', '9'], dtype='<U1')"
      ]
     },
     "execution_count": 205,
     "metadata": {},
     "output_type": "execute_result"
    }
   ],
   "source": [
    "b"
   ]
  },
  {
   "cell_type": "code",
   "execution_count": 206,
   "id": "01b7434e",
   "metadata": {},
   "outputs": [
    {
     "data": {
      "text/plain": [
       "'0'"
      ]
     },
     "execution_count": 206,
     "metadata": {},
     "output_type": "execute_result"
    }
   ],
   "source": [
    "b[0]"
   ]
  },
  {
   "cell_type": "code",
   "execution_count": 207,
   "id": "2f423af1",
   "metadata": {},
   "outputs": [
    {
     "data": {
      "text/plain": [
       "'8'"
      ]
     },
     "execution_count": 207,
     "metadata": {},
     "output_type": "execute_result"
    }
   ],
   "source": [
    "b[8]"
   ]
  },
  {
   "cell_type": "code",
   "execution_count": 208,
   "id": "b2829359",
   "metadata": {},
   "outputs": [
    {
     "data": {
      "text/plain": [
       "1"
      ]
     },
     "execution_count": 208,
     "metadata": {},
     "output_type": "execute_result"
    }
   ],
   "source": [
    "b.ndim"
   ]
  },
  {
   "cell_type": "code",
   "execution_count": 209,
   "id": "fd5edeae",
   "metadata": {},
   "outputs": [
    {
     "data": {
      "text/plain": [
       "(10,)"
      ]
     },
     "execution_count": 209,
     "metadata": {},
     "output_type": "execute_result"
    }
   ],
   "source": [
    "b.shape"
   ]
  },
  {
   "cell_type": "code",
   "execution_count": 210,
   "id": "c286d569",
   "metadata": {},
   "outputs": [],
   "source": [
    "b = np.array([[0,1,2,3,4,5,6,7,8,9],\n",
    "              [10,11,12,13,14,15,16,17,18,19],\n",
    "              [20,21,22,23,24,25,26,27,28,29]])"
   ]
  },
  {
   "cell_type": "code",
   "execution_count": 211,
   "id": "42145dc9",
   "metadata": {},
   "outputs": [
    {
     "data": {
      "text/plain": [
       "array([[ 0,  1,  2,  3,  4,  5,  6,  7,  8,  9],\n",
       "       [10, 11, 12, 13, 14, 15, 16, 17, 18, 19],\n",
       "       [20, 21, 22, 23, 24, 25, 26, 27, 28, 29]])"
      ]
     },
     "execution_count": 211,
     "metadata": {},
     "output_type": "execute_result"
    }
   ],
   "source": [
    "b"
   ]
  },
  {
   "cell_type": "code",
   "execution_count": 212,
   "id": "69ef0d3a",
   "metadata": {},
   "outputs": [
    {
     "data": {
      "text/plain": [
       "14"
      ]
     },
     "execution_count": 212,
     "metadata": {},
     "output_type": "execute_result"
    }
   ],
   "source": [
    "b[1][4]"
   ]
  },
  {
   "cell_type": "code",
   "execution_count": 213,
   "id": "3ad1ce19",
   "metadata": {},
   "outputs": [
    {
     "data": {
      "text/plain": [
       "27"
      ]
     },
     "execution_count": 213,
     "metadata": {},
     "output_type": "execute_result"
    }
   ],
   "source": [
    "b[2, 7]"
   ]
  },
  {
   "cell_type": "code",
   "execution_count": 214,
   "id": "9053c911",
   "metadata": {},
   "outputs": [
    {
     "data": {
      "text/plain": [
       "array([[ 7,  8,  9],\n",
       "       [17, 18, 19],\n",
       "       [27, 28, 29]])"
      ]
     },
     "execution_count": 214,
     "metadata": {},
     "output_type": "execute_result"
    }
   ],
   "source": [
    "b[0:,7:]"
   ]
  },
  {
   "cell_type": "code",
   "execution_count": 215,
   "id": "938a91e7",
   "metadata": {},
   "outputs": [],
   "source": [
    "c = b[0:,:5].copy()"
   ]
  },
  {
   "cell_type": "code",
   "execution_count": 216,
   "id": "ece12106",
   "metadata": {},
   "outputs": [
    {
     "data": {
      "text/plain": [
       "array([[ 0,  1,  2,  3,  4],\n",
       "       [10, 11, 12, 13, 14],\n",
       "       [20, 21, 22, 23, 24]])"
      ]
     },
     "execution_count": 216,
     "metadata": {},
     "output_type": "execute_result"
    }
   ],
   "source": [
    "c"
   ]
  },
  {
   "cell_type": "code",
   "execution_count": 217,
   "id": "97078f3e",
   "metadata": {},
   "outputs": [],
   "source": [
    "c[2,3] = 555"
   ]
  },
  {
   "cell_type": "code",
   "execution_count": 218,
   "id": "976fd1c3",
   "metadata": {},
   "outputs": [
    {
     "data": {
      "text/plain": [
       "array([[  0,   1,   2,   3,   4],\n",
       "       [ 10,  11,  12,  13,  14],\n",
       "       [ 20,  21,  22, 555,  24]])"
      ]
     },
     "execution_count": 218,
     "metadata": {},
     "output_type": "execute_result"
    }
   ],
   "source": [
    "c"
   ]
  },
  {
   "cell_type": "code",
   "execution_count": 219,
   "id": "db75f430",
   "metadata": {},
   "outputs": [
    {
     "data": {
      "text/plain": [
       "array([[ 0,  1,  2,  3,  4,  5,  6,  7,  8,  9],\n",
       "       [10, 11, 12, 13, 14, 15, 16, 17, 18, 19],\n",
       "       [20, 21, 22, 23, 24, 25, 26, 27, 28, 29]])"
      ]
     },
     "execution_count": 219,
     "metadata": {},
     "output_type": "execute_result"
    }
   ],
   "source": [
    "b"
   ]
  },
  {
   "cell_type": "code",
   "execution_count": 220,
   "id": "2c7ae787",
   "metadata": {},
   "outputs": [],
   "source": [
    "mas = np.array([1,2,3,4], dtype=np.int64)"
   ]
  },
  {
   "cell_type": "code",
   "execution_count": 221,
   "id": "0adb05d1",
   "metadata": {},
   "outputs": [
    {
     "data": {
      "text/plain": [
       "dtype('int64')"
      ]
     },
     "execution_count": 221,
     "metadata": {},
     "output_type": "execute_result"
    }
   ],
   "source": [
    "mas.dtype"
   ]
  },
  {
   "cell_type": "code",
   "execution_count": 222,
   "id": "e200c5bd",
   "metadata": {},
   "outputs": [
    {
     "data": {
      "text/plain": [
       "(4,)"
      ]
     },
     "execution_count": 222,
     "metadata": {},
     "output_type": "execute_result"
    }
   ],
   "source": [
    "mas.shape"
   ]
  },
  {
   "cell_type": "code",
   "execution_count": 223,
   "id": "b5bc022c",
   "metadata": {},
   "outputs": [
    {
     "data": {
      "text/plain": [
       "(3, 10)"
      ]
     },
     "execution_count": 223,
     "metadata": {},
     "output_type": "execute_result"
    }
   ],
   "source": [
    "b.shape"
   ]
  },
  {
   "cell_type": "code",
   "execution_count": 224,
   "id": "de0bb83a",
   "metadata": {},
   "outputs": [
    {
     "data": {
      "text/plain": [
       "2"
      ]
     },
     "execution_count": 224,
     "metadata": {},
     "output_type": "execute_result"
    }
   ],
   "source": [
    "b.ndim"
   ]
  },
  {
   "cell_type": "code",
   "execution_count": 225,
   "id": "4a3cca73",
   "metadata": {},
   "outputs": [
    {
     "data": {
      "text/plain": [
       "30"
      ]
     },
     "execution_count": 225,
     "metadata": {},
     "output_type": "execute_result"
    }
   ],
   "source": [
    "b.size"
   ]
  },
  {
   "cell_type": "markdown",
   "id": "fe249609",
   "metadata": {},
   "source": [
    "### Скалярное произведение векторов"
   ]
  },
  {
   "cell_type": "code",
   "execution_count": 226,
   "id": "45d68783",
   "metadata": {},
   "outputs": [
    {
     "data": {
      "text/plain": [
       "130"
      ]
     },
     "execution_count": 226,
     "metadata": {},
     "output_type": "execute_result"
    }
   ],
   "source": [
    "a = np.array([1,2,3,4,5],dtype =\"int32\")\n",
    "b = np.array([6,7,8,9,10],dtype =\"int32\")\n",
    "sp = np.dot(a,b)\n",
    "sp"
   ]
  },
  {
   "cell_type": "markdown",
   "id": "5d2c5484",
   "metadata": {},
   "source": [
    "### Скалярное умножение числа на вектор"
   ]
  },
  {
   "cell_type": "code",
   "execution_count": 227,
   "id": "77bb1e18",
   "metadata": {},
   "outputs": [
    {
     "data": {
      "text/plain": [
       "array([ -5, -10, -15, -20, -25])"
      ]
     },
     "execution_count": 227,
     "metadata": {},
     "output_type": "execute_result"
    }
   ],
   "source": [
    "a.dot(-5)"
   ]
  },
  {
   "cell_type": "markdown",
   "id": "7ca525be",
   "metadata": {},
   "source": [
    "## Операции с векторами"
   ]
  },
  {
   "cell_type": "markdown",
   "id": "90d41225",
   "metadata": {},
   "source": [
    " Сложение"
   ]
  },
  {
   "cell_type": "code",
   "execution_count": 228,
   "id": "4bee8b4a",
   "metadata": {},
   "outputs": [],
   "source": [
    "a = np.array([0, 1, 2, 3, 4, 5])\n",
    "b = np.array([6, 7, 8, 9, 10, 11])"
   ]
  },
  {
   "cell_type": "code",
   "execution_count": 229,
   "id": "ac490a86",
   "metadata": {},
   "outputs": [],
   "source": [
    "c = a + b"
   ]
  },
  {
   "cell_type": "code",
   "execution_count": 230,
   "id": "a7c4897b",
   "metadata": {},
   "outputs": [
    {
     "data": {
      "text/plain": [
       "array([ 6,  8, 10, 12, 14, 16])"
      ]
     },
     "execution_count": 230,
     "metadata": {},
     "output_type": "execute_result"
    }
   ],
   "source": [
    "c"
   ]
  },
  {
   "cell_type": "code",
   "execution_count": 231,
   "id": "1b3ffba8",
   "metadata": {},
   "outputs": [],
   "source": [
    "c = np.add(a, b)"
   ]
  },
  {
   "cell_type": "code",
   "execution_count": 232,
   "id": "cf56d629",
   "metadata": {},
   "outputs": [
    {
     "data": {
      "text/plain": [
       "array([ 6,  8, 10, 12, 14, 16])"
      ]
     },
     "execution_count": 232,
     "metadata": {},
     "output_type": "execute_result"
    }
   ],
   "source": [
    "c"
   ]
  },
  {
   "cell_type": "markdown",
   "id": "277bdf1f",
   "metadata": {},
   "source": [
    "Вычитание"
   ]
  },
  {
   "cell_type": "code",
   "execution_count": 233,
   "id": "85ed6178",
   "metadata": {},
   "outputs": [],
   "source": [
    "d = np.subtract(a,b)"
   ]
  },
  {
   "cell_type": "code",
   "execution_count": 234,
   "id": "7046c705",
   "metadata": {},
   "outputs": [
    {
     "data": {
      "text/plain": [
       "array([-6, -6, -6, -6, -6, -6])"
      ]
     },
     "execution_count": 234,
     "metadata": {},
     "output_type": "execute_result"
    }
   ],
   "source": [
    "d"
   ]
  },
  {
   "cell_type": "markdown",
   "id": "6799b9cf",
   "metadata": {},
   "source": [
    "Умножение вектра на скаляр (число)"
   ]
  },
  {
   "cell_type": "code",
   "execution_count": 235,
   "id": "0d864685",
   "metadata": {},
   "outputs": [],
   "source": [
    "a = np.array([0, 1, 2, 3, 4, 5])"
   ]
  },
  {
   "cell_type": "code",
   "execution_count": 236,
   "id": "b8915463",
   "metadata": {},
   "outputs": [
    {
     "data": {
      "text/plain": [
       "array([  0, -10, -20, -30, -40, -50])"
      ]
     },
     "execution_count": 236,
     "metadata": {},
     "output_type": "execute_result"
    }
   ],
   "source": [
    "a.dot(-10)"
   ]
  },
  {
   "cell_type": "code",
   "execution_count": 237,
   "id": "bb464597",
   "metadata": {},
   "outputs": [
    {
     "data": {
      "text/plain": [
       "array([  0, -10, -20, -30, -40, -50])"
      ]
     },
     "execution_count": 237,
     "metadata": {},
     "output_type": "execute_result"
    }
   ],
   "source": [
    "np.dot(a,-10)"
   ]
  },
  {
   "cell_type": "markdown",
   "id": "b246933c",
   "metadata": {},
   "source": [
    "Скалярное умножение векторов"
   ]
  },
  {
   "cell_type": "code",
   "execution_count": 238,
   "id": "87171670",
   "metadata": {},
   "outputs": [],
   "source": [
    "a = np.array([0, 1, 2, 3, 4, 5])\n",
    "b = np.array([6, 7, 8, 9, 10, 11])"
   ]
  },
  {
   "cell_type": "code",
   "execution_count": 239,
   "id": "c7369261",
   "metadata": {},
   "outputs": [],
   "source": [
    "sp = a @ b"
   ]
  },
  {
   "cell_type": "code",
   "execution_count": 240,
   "id": "6af52dac",
   "metadata": {},
   "outputs": [
    {
     "data": {
      "text/plain": [
       "145"
      ]
     },
     "execution_count": 240,
     "metadata": {},
     "output_type": "execute_result"
    }
   ],
   "source": [
    "sp"
   ]
  },
  {
   "cell_type": "code",
   "execution_count": 241,
   "id": "b92f46a3",
   "metadata": {},
   "outputs": [
    {
     "data": {
      "text/plain": [
       "145"
      ]
     },
     "execution_count": 241,
     "metadata": {},
     "output_type": "execute_result"
    }
   ],
   "source": [
    "sp = np.dot(a,b)\n",
    "sp"
   ]
  },
  {
   "cell_type": "markdown",
   "id": "e2e45d73",
   "metadata": {},
   "source": [
    "# Операции с матрицами"
   ]
  },
  {
   "cell_type": "markdown",
   "id": "9b8fbf80",
   "metadata": {},
   "source": [
    "### Сложение, вычитание"
   ]
  },
  {
   "cell_type": "code",
   "execution_count": 242,
   "id": "49351787",
   "metadata": {},
   "outputs": [],
   "source": [
    "A = np.array([[23, 34],\n",
    "             [18, 12],\n",
    "             [9, 5]])"
   ]
  },
  {
   "cell_type": "code",
   "execution_count": 243,
   "id": "861e49c2",
   "metadata": {},
   "outputs": [],
   "source": [
    "B = np.array([[45, 22],\n",
    "             [21, 3],\n",
    "             [11, 99]])"
   ]
  },
  {
   "cell_type": "code",
   "execution_count": 244,
   "id": "23540e71",
   "metadata": {},
   "outputs": [
    {
     "data": {
      "text/plain": [
       "array([[ 68,  56],\n",
       "       [ 39,  15],\n",
       "       [ 20, 104]])"
      ]
     },
     "execution_count": 244,
     "metadata": {},
     "output_type": "execute_result"
    }
   ],
   "source": [
    "C = np.add(A, B)\n",
    "C"
   ]
  },
  {
   "cell_type": "code",
   "execution_count": 245,
   "id": "414d79f8",
   "metadata": {},
   "outputs": [
    {
     "data": {
      "text/plain": [
       "array([[ 22, -12],\n",
       "       [  3,  -9],\n",
       "       [  2,  94]])"
      ]
     },
     "execution_count": 245,
     "metadata": {},
     "output_type": "execute_result"
    }
   ],
   "source": [
    "C = np.subtract(B, A)\n",
    "C"
   ]
  },
  {
   "cell_type": "markdown",
   "id": "3cb184a7",
   "metadata": {},
   "source": [
    "### Умножение матрицы на скаляр(число)"
   ]
  },
  {
   "cell_type": "code",
   "execution_count": 246,
   "id": "a72cc6e9",
   "metadata": {},
   "outputs": [
    {
     "data": {
      "text/plain": [
       "array([[12, 45],\n",
       "       [22, 15]])"
      ]
     },
     "execution_count": 246,
     "metadata": {},
     "output_type": "execute_result"
    }
   ],
   "source": [
    "X = np.array([[12, 45],\n",
    "             [22,15]])\n",
    "X"
   ]
  },
  {
   "cell_type": "code",
   "execution_count": 247,
   "id": "fe430a72",
   "metadata": {},
   "outputs": [
    {
     "data": {
      "text/plain": [
       "array([[24, 90],\n",
       "       [44, 30]])"
      ]
     },
     "execution_count": 247,
     "metadata": {},
     "output_type": "execute_result"
    }
   ],
   "source": [
    "Y = X * 2\n",
    "Y"
   ]
  },
  {
   "cell_type": "code",
   "execution_count": 248,
   "id": "519dec4a",
   "metadata": {},
   "outputs": [
    {
     "data": {
      "text/plain": [
       "array([[ 48, 180],\n",
       "       [ 88,  60]])"
      ]
     },
     "execution_count": 248,
     "metadata": {},
     "output_type": "execute_result"
    }
   ],
   "source": [
    "Y = np.dot(X, 4)\n",
    "Y"
   ]
  },
  {
   "cell_type": "markdown",
   "id": "ebfbd453",
   "metadata": {},
   "source": [
    "### Умножение матрицы на матрицу\n",
    "Кол-во столбцов 1 матрицы должно быть равное кол-ву строк 2 матрицы"
   ]
  },
  {
   "cell_type": "code",
   "execution_count": 249,
   "id": "43d2ce2c",
   "metadata": {},
   "outputs": [],
   "source": [
    "A = np.array([[1, 2],\n",
    "             [21, 12],\n",
    "             [34, 7]])\n",
    "\n",
    "B = np.array([[22, 32, 4],\n",
    "             [7, 16, 11]])"
   ]
  },
  {
   "cell_type": "code",
   "execution_count": 250,
   "id": "4c9570fd",
   "metadata": {},
   "outputs": [
    {
     "data": {
      "text/plain": [
       "array([[  36,   64,   26],\n",
       "       [ 546,  864,  216],\n",
       "       [ 797, 1200,  213]])"
      ]
     },
     "execution_count": 250,
     "metadata": {},
     "output_type": "execute_result"
    }
   ],
   "source": [
    "Z = np.dot(A, B)\n",
    "Z"
   ]
  },
  {
   "cell_type": "markdown",
   "id": "84419aed",
   "metadata": {},
   "source": [
    "### Возведение матрицы в квадрат (матрица должна быть квадратная 2x2, 3x3 и тд.)"
   ]
  },
  {
   "cell_type": "code",
   "execution_count": 251,
   "id": "6c2f51e3",
   "metadata": {},
   "outputs": [],
   "source": [
    "A = np.array([[1, 12, 21],\n",
    "             [11, 3, 5],\n",
    "             [8, 6, 9]])"
   ]
  },
  {
   "cell_type": "code",
   "execution_count": 252,
   "id": "fb920231",
   "metadata": {},
   "outputs": [
    {
     "data": {
      "text/plain": [
       "array([[301, 174, 270],\n",
       "       [ 84, 171, 291],\n",
       "       [146, 168, 279]])"
      ]
     },
     "execution_count": 252,
     "metadata": {},
     "output_type": "execute_result"
    }
   ],
   "source": [
    "A_square = np.dot(A, A)\n",
    "A_square"
   ]
  },
  {
   "cell_type": "code",
   "execution_count": 253,
   "id": "af5d0151",
   "metadata": {},
   "outputs": [
    {
     "data": {
      "text/plain": [
       "array([[301, 174, 270],\n",
       "       [ 84, 171, 291],\n",
       "       [146, 168, 279]])"
      ]
     },
     "execution_count": 253,
     "metadata": {},
     "output_type": "execute_result"
    }
   ],
   "source": [
    "A_square = np.linalg.matrix_power(A, 2)\n",
    "A_square"
   ]
  },
  {
   "cell_type": "markdown",
   "id": "ac362b47",
   "metadata": {},
   "source": [
    "### Создание и использование единичной матрицы.\n",
    "Квадратная матрица с 1 на главной диагонали и остальными нулями. При умножении подходящей по размеру матрицы на единичную\n",
    "матрица не меняется."
   ]
  },
  {
   "cell_type": "code",
   "execution_count": 254,
   "id": "29c05a76",
   "metadata": {},
   "outputs": [
    {
     "data": {
      "text/plain": [
       "array([[1., 0., 0.],\n",
       "       [0., 1., 0.],\n",
       "       [0., 0., 1.]])"
      ]
     },
     "execution_count": 254,
     "metadata": {},
     "output_type": "execute_result"
    }
   ],
   "source": [
    "I = np.eye(3)\n",
    "I"
   ]
  },
  {
   "cell_type": "code",
   "execution_count": 255,
   "id": "aa697012",
   "metadata": {},
   "outputs": [],
   "source": [
    "A = np.array([[1, 2, 3],\n",
    "             [4, 5, 6]])"
   ]
  },
  {
   "cell_type": "code",
   "execution_count": 256,
   "id": "08fa8cb7",
   "metadata": {},
   "outputs": [
    {
     "data": {
      "text/plain": [
       "array([[1., 2., 3.],\n",
       "       [4., 5., 6.]])"
      ]
     },
     "execution_count": 256,
     "metadata": {},
     "output_type": "execute_result"
    }
   ],
   "source": [
    "np.dot(A, I)"
   ]
  },
  {
   "cell_type": "code",
   "execution_count": 257,
   "id": "435bf467",
   "metadata": {},
   "outputs": [
    {
     "data": {
      "text/plain": [
       "array([[1., 0.],\n",
       "       [0., 1.]])"
      ]
     },
     "execution_count": 257,
     "metadata": {},
     "output_type": "execute_result"
    }
   ],
   "source": [
    "I = np.eye(2)\n",
    "I"
   ]
  },
  {
   "cell_type": "code",
   "execution_count": 258,
   "id": "1060f9d2",
   "metadata": {},
   "outputs": [
    {
     "data": {
      "text/plain": [
       "array([[1., 2., 3.],\n",
       "       [4., 5., 6.]])"
      ]
     },
     "execution_count": 258,
     "metadata": {},
     "output_type": "execute_result"
    }
   ],
   "source": [
    "np.dot(I, A)"
   ]
  },
  {
   "cell_type": "markdown",
   "id": "b9c8933c",
   "metadata": {},
   "source": [
    "### Транспонирование матрицы"
   ]
  },
  {
   "cell_type": "code",
   "execution_count": 259,
   "id": "37a7963c",
   "metadata": {},
   "outputs": [],
   "source": [
    "A = np.array([[1, 12],\n",
    "             [11, 3],\n",
    "             [8, 6]])"
   ]
  },
  {
   "cell_type": "code",
   "execution_count": 260,
   "id": "b61674b1",
   "metadata": {},
   "outputs": [
    {
     "data": {
      "text/plain": [
       "array([[ 1, 11,  8],\n",
       "       [12,  3,  6]])"
      ]
     },
     "execution_count": 260,
     "metadata": {},
     "output_type": "execute_result"
    }
   ],
   "source": [
    "At = A.transpose()\n",
    "At"
   ]
  },
  {
   "cell_type": "code",
   "execution_count": 261,
   "id": "9c75a5cb",
   "metadata": {},
   "outputs": [
    {
     "data": {
      "text/plain": [
       "array([[ 1, 11,  8],\n",
       "       [12,  3,  6]])"
      ]
     },
     "execution_count": 261,
     "metadata": {},
     "output_type": "execute_result"
    }
   ],
   "source": [
    "At = A.T\n",
    "At"
   ]
  },
  {
   "cell_type": "markdown",
   "id": "53bc73f0",
   "metadata": {},
   "source": [
    "Пример применения транспонирования матрицы (после транспонирования матрицы умножение возможно)"
   ]
  },
  {
   "cell_type": "code",
   "execution_count": 262,
   "id": "2e46bcfd",
   "metadata": {},
   "outputs": [],
   "source": [
    "X = np.array([[1, 2],\n",
    "             [3, 4],\n",
    "             [5, 6]])\n",
    "\n",
    "Y = np.array([[3, 4],\n",
    "             [5, 6],\n",
    "             [7, 8],\n",
    "             [2, 9]])"
   ]
  },
  {
   "cell_type": "code",
   "execution_count": 263,
   "id": "a6a12f27",
   "metadata": {},
   "outputs": [
    {
     "data": {
      "text/plain": [
       "array([[3, 5, 7, 2],\n",
       "       [4, 6, 8, 9]])"
      ]
     },
     "execution_count": 263,
     "metadata": {},
     "output_type": "execute_result"
    }
   ],
   "source": [
    "Yt = Y.T\n",
    "Yt"
   ]
  },
  {
   "cell_type": "code",
   "execution_count": 264,
   "id": "72901040",
   "metadata": {},
   "outputs": [
    {
     "data": {
      "text/plain": [
       "array([[11, 17, 23, 20],\n",
       "       [25, 39, 53, 42],\n",
       "       [39, 61, 83, 64]])"
      ]
     },
     "execution_count": 264,
     "metadata": {},
     "output_type": "execute_result"
    }
   ],
   "source": [
    "np.dot(X, Yt)"
   ]
  },
  {
   "cell_type": "markdown",
   "id": "b2c8deec",
   "metadata": {},
   "source": [
    " ### Вычисление определителя и ранга матрицы \n",
    "    (Определитель можно найти только у квадратных матриц, ранг у всех)"
   ]
  },
  {
   "cell_type": "code",
   "execution_count": 265,
   "id": "6c454bc1",
   "metadata": {},
   "outputs": [],
   "source": [
    "A = np.array([[0, 2, 3],\n",
    "             [4, 5, 6],\n",
    "             [7, 8, 9]])"
   ]
  },
  {
   "cell_type": "code",
   "execution_count": 266,
   "id": "e0432523",
   "metadata": {},
   "outputs": [
    {
     "data": {
      "text/plain": [
       "2.9999999999999982"
      ]
     },
     "execution_count": 266,
     "metadata": {},
     "output_type": "execute_result"
    }
   ],
   "source": [
    "np.linalg.det(A)"
   ]
  },
  {
   "cell_type": "code",
   "execution_count": 267,
   "id": "f7bca03c",
   "metadata": {},
   "outputs": [
    {
     "data": {
      "text/plain": [
       "3"
      ]
     },
     "execution_count": 267,
     "metadata": {},
     "output_type": "execute_result"
    }
   ],
   "source": [
    "np.linalg.matrix_rank(A)"
   ]
  },
  {
   "cell_type": "code",
   "execution_count": 268,
   "id": "32ab1bb3",
   "metadata": {},
   "outputs": [],
   "source": [
    "B = np.array([[0, 2, 3],\n",
    "             [4, 5, 6]])"
   ]
  },
  {
   "cell_type": "code",
   "execution_count": 269,
   "id": "f9e79c2b",
   "metadata": {},
   "outputs": [
    {
     "data": {
      "text/plain": [
       "2"
      ]
     },
     "execution_count": 269,
     "metadata": {},
     "output_type": "execute_result"
    }
   ],
   "source": [
    "np.linalg.matrix_rank(B)"
   ]
  },
  {
   "cell_type": "markdown",
   "id": "3c50a091",
   "metadata": {},
   "source": [
    "### Вычисление обратной матрицы"
   ]
  },
  {
   "cell_type": "code",
   "execution_count": 270,
   "id": "9476fa6f",
   "metadata": {},
   "outputs": [],
   "source": [
    "C = np.array([[1, 2, 3],\n",
    "             [5, 6, 8],\n",
    "             [2, 12, 21]])"
   ]
  },
  {
   "cell_type": "code",
   "execution_count": 271,
   "id": "6ed7e74e",
   "metadata": {},
   "outputs": [
    {
     "data": {
      "text/plain": [
       "array([[ -7.5 ,   1.5 ,   0.5 ],\n",
       "       [ 22.25,  -3.75,  -1.75],\n",
       "       [-12.  ,   2.  ,   1.  ]])"
      ]
     },
     "execution_count": 271,
     "metadata": {},
     "output_type": "execute_result"
    }
   ],
   "source": [
    "C_inv = np.linalg.inv(C)\n",
    "C_inv"
   ]
  },
  {
   "cell_type": "code",
   "execution_count": 272,
   "id": "018d017c",
   "metadata": {},
   "outputs": [
    {
     "data": {
      "text/plain": [
       "array([[ 1.,  2.,  3.],\n",
       "       [ 5.,  6.,  8.],\n",
       "       [ 2., 12., 21.]])"
      ]
     },
     "execution_count": 272,
     "metadata": {},
     "output_type": "execute_result"
    }
   ],
   "source": [
    "C_inv_2 = np.linalg.inv(C_inv)\n",
    "C_inv_2"
   ]
  },
  {
   "cell_type": "markdown",
   "id": "8fb4627f",
   "metadata": {},
   "source": [
    "# Генерирование массивов"
   ]
  },
  {
   "cell_type": "markdown",
   "id": "82047b2b",
   "metadata": {},
   "source": [
    "Генерация массива с нулями"
   ]
  },
  {
   "cell_type": "code",
   "execution_count": 273,
   "id": "21038852",
   "metadata": {},
   "outputs": [
    {
     "data": {
      "text/plain": [
       "array([[0., 0., 0., 0.],\n",
       "       [0., 0., 0., 0.],\n",
       "       [0., 0., 0., 0.]])"
      ]
     },
     "execution_count": 273,
     "metadata": {},
     "output_type": "execute_result"
    }
   ],
   "source": [
    "A = np.zeros((3, 4))\n",
    "A"
   ]
  },
  {
   "cell_type": "markdown",
   "id": "81c81d5e",
   "metadata": {},
   "source": [
    "Генерация массива с единицами"
   ]
  },
  {
   "cell_type": "code",
   "execution_count": 274,
   "id": "8a033a1f",
   "metadata": {},
   "outputs": [
    {
     "data": {
      "text/plain": [
       "array([[1., 1., 1., 1., 1.],\n",
       "       [1., 1., 1., 1., 1.]])"
      ]
     },
     "execution_count": 274,
     "metadata": {},
     "output_type": "execute_result"
    }
   ],
   "source": [
    "B = np.ones((2,5))\n",
    "B"
   ]
  },
  {
   "cell_type": "markdown",
   "id": "cc2f3c52",
   "metadata": {},
   "source": [
    "Генерация массива последовательности"
   ]
  },
  {
   "cell_type": "code",
   "execution_count": 275,
   "id": "275185f2",
   "metadata": {},
   "outputs": [
    {
     "data": {
      "text/plain": [
       "array([0, 1, 2, 3, 4, 5, 6, 7, 8, 9])"
      ]
     },
     "execution_count": 275,
     "metadata": {},
     "output_type": "execute_result"
    }
   ],
   "source": [
    "C = np.arange(10)\n",
    "C"
   ]
  },
  {
   "cell_type": "code",
   "execution_count": 276,
   "id": "e97a3ee1",
   "metadata": {},
   "outputs": [
    {
     "data": {
      "text/plain": [
       "array([10,  9,  8,  7,  6,  5,  4,  3,  2,  1])"
      ]
     },
     "execution_count": 276,
     "metadata": {},
     "output_type": "execute_result"
    }
   ],
   "source": [
    "C = np.arange(10, 0, -1)\n",
    "C"
   ]
  },
  {
   "cell_type": "markdown",
   "id": "e7b035e4",
   "metadata": {},
   "source": [
    "linspace- правая граница будет включена, вместо шага указываем кол-во элементов."
   ]
  },
  {
   "cell_type": "code",
   "execution_count": 277,
   "id": "73d8e197",
   "metadata": {},
   "outputs": [
    {
     "data": {
      "text/plain": [
       "array([0. , 0.1, 0.2, 0.3, 0.4, 0.5, 0.6, 0.7, 0.8, 0.9, 1. , 1.1, 1.2,\n",
       "       1.3, 1.4, 1.5, 1.6, 1.7, 1.8, 1.9, 2. , 2.1, 2.2, 2.3, 2.4, 2.5,\n",
       "       2.6, 2.7, 2.8, 2.9, 3. , 3.1, 3.2, 3.3, 3.4, 3.5, 3.6, 3.7, 3.8,\n",
       "       3.9, 4. , 4.1, 4.2, 4.3, 4.4, 4.5, 4.6, 4.7, 4.8, 4.9, 5. , 5.1,\n",
       "       5.2, 5.3, 5.4, 5.5, 5.6, 5.7, 5.8, 5.9, 6. , 6.1, 6.2, 6.3, 6.4,\n",
       "       6.5, 6.6, 6.7, 6.8, 6.9, 7. , 7.1, 7.2, 7.3, 7.4, 7.5, 7.6, 7.7,\n",
       "       7.8, 7.9, 8. , 8.1, 8.2, 8.3, 8.4, 8.5, 8.6, 8.7, 8.8, 8.9, 9. ,\n",
       "       9.1, 9.2, 9.3, 9.4, 9.5, 9.6, 9.7, 9.8, 9.9])"
      ]
     },
     "execution_count": 277,
     "metadata": {},
     "output_type": "execute_result"
    }
   ],
   "source": [
    "np.linspace(0, 9.9, 100)"
   ]
  },
  {
   "cell_type": "markdown",
   "id": "0f29df8b",
   "metadata": {},
   "source": [
    "Logspace - не сами числа, а степени числа 10"
   ]
  },
  {
   "cell_type": "code",
   "execution_count": 278,
   "id": "ddd94b31",
   "metadata": {},
   "outputs": [
    {
     "data": {
      "text/plain": [
       "array([   1.,   10.,  100., 1000.])"
      ]
     },
     "execution_count": 278,
     "metadata": {},
     "output_type": "execute_result"
    }
   ],
   "source": [
    "np.logspace(0, 3, 4)"
   ]
  },
  {
   "cell_type": "markdown",
   "id": "c83029bd",
   "metadata": {},
   "source": [
    "### Генерация случайных чисел"
   ]
  },
  {
   "cell_type": "markdown",
   "id": "82430859",
   "metadata": {},
   "source": [
    "np.random.sample - случайные дробные числа от 0 до 1"
   ]
  },
  {
   "cell_type": "code",
   "execution_count": 279,
   "id": "4ff8464e",
   "metadata": {},
   "outputs": [
    {
     "data": {
      "text/plain": [
       "array([0.09368843, 0.16437082, 0.67783632])"
      ]
     },
     "execution_count": 279,
     "metadata": {},
     "output_type": "execute_result"
    }
   ],
   "source": [
    "np.random.sample(3)"
   ]
  },
  {
   "cell_type": "code",
   "execution_count": 280,
   "id": "44072c64",
   "metadata": {},
   "outputs": [
    {
     "data": {
      "text/plain": [
       "array([[0.16888175, 0.39660751, 0.260547  , 0.73677543],\n",
       "       [0.97225049, 0.26372101, 0.94038209, 0.88851023],\n",
       "       [0.37573985, 0.89894417, 0.01794337, 0.59969167]])"
      ]
     },
     "execution_count": 280,
     "metadata": {},
     "output_type": "execute_result"
    }
   ],
   "source": [
    "np.random.sample((3, 4))"
   ]
  },
  {
   "cell_type": "markdown",
   "id": "0d4c7eb6",
   "metadata": {},
   "source": [
    "Массив 48x64x3 - это может быть изображение с высотой 48, шириной 64\n",
    "и значениями яркости 3 цветов для каждого пикселя (кол-во цветов)"
   ]
  },
  {
   "cell_type": "code",
   "execution_count": 281,
   "id": "2529dd7b",
   "metadata": {},
   "outputs": [
    {
     "data": {
      "text/plain": [
       "array([[[4.08456591e-01, 7.98731621e-01, 2.28382956e-01],\n",
       "        [1.53613492e-01, 7.21318228e-01, 4.06566609e-02],\n",
       "        [3.28364474e-01, 8.08473155e-02, 8.63402301e-01],\n",
       "        ...,\n",
       "        [6.18666827e-01, 2.58085161e-01, 1.99514692e-01],\n",
       "        [4.45591938e-02, 1.48047095e-01, 1.67735789e-01],\n",
       "        [4.06118820e-01, 6.83688240e-01, 3.01356526e-01]],\n",
       "\n",
       "       [[8.89335231e-01, 6.98834937e-01, 4.66607089e-02],\n",
       "        [1.34309979e-02, 6.20724578e-01, 2.12160146e-01],\n",
       "        [4.34100736e-01, 6.39901851e-02, 9.95082242e-01],\n",
       "        ...,\n",
       "        [9.81460511e-01, 1.59187758e-02, 5.88251421e-01],\n",
       "        [7.86640753e-01, 8.33882290e-01, 7.95605854e-01],\n",
       "        [7.13618591e-01, 5.17340214e-02, 5.69823231e-02]],\n",
       "\n",
       "       [[5.79703241e-01, 4.67342947e-01, 8.08735500e-01],\n",
       "        [2.23735571e-02, 4.60028381e-01, 6.27740092e-01],\n",
       "        [6.41203649e-01, 5.32556375e-01, 6.36109264e-01],\n",
       "        ...,\n",
       "        [2.74469091e-01, 6.28720228e-01, 1.12618402e-01],\n",
       "        [3.40257679e-01, 6.16457305e-01, 1.89251455e-01],\n",
       "        [5.01682956e-01, 6.90045237e-01, 3.94649625e-02]],\n",
       "\n",
       "       ...,\n",
       "\n",
       "       [[8.55262305e-02, 9.80480070e-02, 3.31620840e-02],\n",
       "        [8.16165923e-02, 1.88778747e-01, 2.62971106e-01],\n",
       "        [7.28042159e-01, 2.11974564e-01, 5.04309458e-01],\n",
       "        ...,\n",
       "        [4.02496000e-01, 2.21527166e-01, 6.90166084e-01],\n",
       "        [8.29810514e-01, 3.93150820e-01, 3.68901918e-01],\n",
       "        [7.30716204e-02, 1.57681770e-01, 1.70595687e-01]],\n",
       "\n",
       "       [[2.79525618e-01, 6.70077822e-01, 8.82698947e-01],\n",
       "        [6.52387635e-01, 7.89443877e-01, 1.36371400e-01],\n",
       "        [2.98920857e-01, 5.20397983e-01, 4.36723175e-03],\n",
       "        ...,\n",
       "        [9.50886941e-01, 2.19396539e-01, 2.72206059e-01],\n",
       "        [3.80683119e-01, 3.68391102e-01, 4.38979992e-01],\n",
       "        [1.70391887e-01, 1.97534287e-02, 5.24046125e-02]],\n",
       "\n",
       "       [[1.01848502e-02, 8.55546888e-01, 8.06831348e-01],\n",
       "        [2.98128902e-01, 9.03635822e-01, 2.25765551e-02],\n",
       "        [3.78521626e-01, 9.37991355e-01, 4.83681926e-01],\n",
       "        ...,\n",
       "        [6.24339638e-01, 5.47542834e-01, 9.26620530e-01],\n",
       "        [3.76035507e-01, 1.48044308e-02, 9.23273159e-01],\n",
       "        [9.15490863e-01, 6.94728151e-04, 9.61956304e-01]]])"
      ]
     },
     "execution_count": 281,
     "metadata": {},
     "output_type": "execute_result"
    }
   ],
   "source": [
    "np.random.sample((48, 64, 3))"
   ]
  },
  {
   "cell_type": "markdown",
   "id": "3753e5dd",
   "metadata": {},
   "source": [
    "np.random.randn - случайные числа с нормальным распределением\n",
    "(среднее значение = 0, среднеквадратичное отклонение = 1)"
   ]
  },
  {
   "cell_type": "code",
   "execution_count": 282,
   "id": "1b4703aa",
   "metadata": {},
   "outputs": [
    {
     "data": {
      "text/plain": [
       "array([ 0.87790611, -0.14989397])"
      ]
     },
     "execution_count": 282,
     "metadata": {},
     "output_type": "execute_result"
    }
   ],
   "source": [
    "np.random.randn(2)"
   ]
  },
  {
   "cell_type": "code",
   "execution_count": 283,
   "id": "cfafc32d",
   "metadata": {},
   "outputs": [
    {
     "data": {
      "text/plain": [
       "array([[-0.12052045,  1.30111074],\n",
       "       [ 0.19711467,  1.21746103],\n",
       "       [ 1.10769575, -0.70148267]])"
      ]
     },
     "execution_count": 283,
     "metadata": {},
     "output_type": "execute_result"
    }
   ],
   "source": [
    "np.random.randn(3, 2)"
   ]
  },
  {
   "cell_type": "markdown",
   "id": "8331666d",
   "metadata": {},
   "source": [
    "np.random.randint - случайные целые числа"
   ]
  },
  {
   "cell_type": "code",
   "execution_count": 284,
   "id": "7c540baf",
   "metadata": {},
   "outputs": [
    {
     "data": {
      "text/plain": [
       "array([72, 60,  8, 85, 51, 85, 31, 89, 86, 40])"
      ]
     },
     "execution_count": 284,
     "metadata": {},
     "output_type": "execute_result"
    }
   ],
   "source": [
    "np.random.randint(0, 100, 10)"
   ]
  },
  {
   "cell_type": "code",
   "execution_count": 285,
   "id": "f347ed8c",
   "metadata": {},
   "outputs": [
    {
     "data": {
      "text/plain": [
       "array([[ 4,  5, 10,  8],\n",
       "       [ 4,  2,  5, 10],\n",
       "       [ 9,  6,  4,  4]])"
      ]
     },
     "execution_count": 285,
     "metadata": {},
     "output_type": "execute_result"
    }
   ],
   "source": [
    "np.random.randint(1, 11, (3, 4))"
   ]
  },
  {
   "cell_type": "markdown",
   "id": "b68de716",
   "metadata": {},
   "source": [
    "### numpy.random.choice\n",
    "позволяет выбрать случайный элемент из массива или несколько."
   ]
  },
  {
   "cell_type": "code",
   "execution_count": 286,
   "id": "4221a325",
   "metadata": {},
   "outputs": [
    {
     "data": {
      "text/plain": [
       "array([ 0,  1,  2,  3,  4,  5,  6,  7,  8,  9, 10])"
      ]
     },
     "execution_count": 286,
     "metadata": {},
     "output_type": "execute_result"
    }
   ],
   "source": [
    "A = np.arange(11)\n",
    "A"
   ]
  },
  {
   "cell_type": "code",
   "execution_count": 287,
   "id": "b1d23f19",
   "metadata": {},
   "outputs": [
    {
     "data": {
      "text/plain": [
       "1"
      ]
     },
     "execution_count": 287,
     "metadata": {},
     "output_type": "execute_result"
    }
   ],
   "source": [
    "np.random.choice(A)"
   ]
  },
  {
   "cell_type": "code",
   "execution_count": 288,
   "id": "97d20634",
   "metadata": {},
   "outputs": [
    {
     "data": {
      "text/plain": [
       "array([7, 4, 1])"
      ]
     },
     "execution_count": 288,
     "metadata": {},
     "output_type": "execute_result"
    }
   ],
   "source": [
    "np.random.choice(A, 3)"
   ]
  },
  {
   "cell_type": "markdown",
   "id": "0508a61d",
   "metadata": {},
   "source": [
    "### Изменение формы массива"
   ]
  },
  {
   "cell_type": "code",
   "execution_count": 289,
   "id": "49f73fd5",
   "metadata": {},
   "outputs": [
    {
     "data": {
      "text/plain": [
       "array([ 0,  1,  2,  3,  4,  5,  6,  7,  8,  9, 10, 11])"
      ]
     },
     "execution_count": 289,
     "metadata": {},
     "output_type": "execute_result"
    }
   ],
   "source": [
    "a = np.arange(12)\n",
    "a"
   ]
  },
  {
   "cell_type": "code",
   "execution_count": 290,
   "id": "5e370f32",
   "metadata": {},
   "outputs": [
    {
     "data": {
      "text/plain": [
       "array([[ 0,  1,  2,  3],\n",
       "       [ 4,  5,  6,  7],\n",
       "       [ 8,  9, 10, 11]])"
      ]
     },
     "execution_count": 290,
     "metadata": {},
     "output_type": "execute_result"
    }
   ],
   "source": [
    "a.reshape(3, 4)"
   ]
  },
  {
   "cell_type": "code",
   "execution_count": 291,
   "id": "463372c4",
   "metadata": {},
   "outputs": [
    {
     "data": {
      "text/plain": [
       "array([[ 0,  1,  2,  3],\n",
       "       [ 4,  5,  6,  7],\n",
       "       [ 8,  9, 10, 11]])"
      ]
     },
     "execution_count": 291,
     "metadata": {},
     "output_type": "execute_result"
    }
   ],
   "source": [
    "# Когда известно кол-во строк, и не известно кол-во столбцов указываем -1 и функция сама создат массив нужного размера\n",
    "\n",
    "np.reshape(a, (3, -1))"
   ]
  },
  {
   "cell_type": "code",
   "execution_count": 292,
   "id": "5dfe6797",
   "metadata": {},
   "outputs": [
    {
     "data": {
      "text/plain": [
       "array([[ 0,  1,  2],\n",
       "       [ 3,  4,  5],\n",
       "       [ 6,  7,  8],\n",
       "       [ 9, 10, 11]])"
      ]
     },
     "execution_count": 292,
     "metadata": {},
     "output_type": "execute_result"
    }
   ],
   "source": [
    "# Когда неизвестно кол-во строк, но известно требуемое кол-во столбцов, также пишем -1\n",
    "np.reshape(a,(-1, 3))"
   ]
  },
  {
   "cell_type": "code",
   "execution_count": 293,
   "id": "c6ae954b",
   "metadata": {},
   "outputs": [
    {
     "data": {
      "text/plain": [
       "array([[ 0,  1,  2,  3],\n",
       "       [ 4,  5,  6,  7],\n",
       "       [ 8,  9, 10, 11]])"
      ]
     },
     "execution_count": 293,
     "metadata": {},
     "output_type": "execute_result"
    }
   ],
   "source": [
    "a.resize(3, 4)\n",
    "a"
   ]
  },
  {
   "cell_type": "markdown",
   "id": "9aa9060e",
   "metadata": {},
   "source": [
    "#### Получение одномерного массива из многомерного"
   ]
  },
  {
   "cell_type": "code",
   "execution_count": 294,
   "id": "7306f474",
   "metadata": {},
   "outputs": [
    {
     "data": {
      "text/plain": [
       "array([ 0,  1,  2,  3,  4,  5,  6,  7,  8,  9, 10, 11])"
      ]
     },
     "execution_count": 294,
     "metadata": {},
     "output_type": "execute_result"
    }
   ],
   "source": [
    "a = a.flatten()\n",
    "a"
   ]
  },
  {
   "cell_type": "markdown",
   "id": "4d6da4d2",
   "metadata": {},
   "source": [
    "### Соединение массивов\n",
    "Для примера возьмём два массива а и b"
   ]
  },
  {
   "cell_type": "code",
   "execution_count": 295,
   "id": "9e746567",
   "metadata": {},
   "outputs": [
    {
     "data": {
      "text/plain": [
       "array([[0., 0., 0.],\n",
       "       [0., 0., 0.]])"
      ]
     },
     "execution_count": 295,
     "metadata": {},
     "output_type": "execute_result"
    }
   ],
   "source": [
    "a = np.zeros((2, 3))\n",
    "a"
   ]
  },
  {
   "cell_type": "code",
   "execution_count": 296,
   "id": "17f8f922",
   "metadata": {},
   "outputs": [
    {
     "data": {
      "text/plain": [
       "array([[1., 1., 1.],\n",
       "       [1., 1., 1.]])"
      ]
     },
     "execution_count": 296,
     "metadata": {},
     "output_type": "execute_result"
    }
   ],
   "source": [
    "b = np.ones((2, 3))\n",
    "b"
   ]
  },
  {
   "cell_type": "code",
   "execution_count": 297,
   "id": "315cc9fa",
   "metadata": {},
   "outputs": [
    {
     "data": {
      "text/plain": [
       "array([[0., 0., 0.],\n",
       "       [0., 0., 0.],\n",
       "       [1., 1., 1.],\n",
       "       [1., 1., 1.]])"
      ]
     },
     "execution_count": 297,
     "metadata": {},
     "output_type": "execute_result"
    }
   ],
   "source": [
    "# Соединение строк вертикально\n",
    "v = np.vstack((a, b))\n",
    "v"
   ]
  },
  {
   "cell_type": "code",
   "execution_count": 298,
   "id": "6f8fab80",
   "metadata": {},
   "outputs": [
    {
     "data": {
      "text/plain": [
       "array([[0., 0., 0., 1., 1., 1.],\n",
       "       [0., 0., 0., 1., 1., 1.]])"
      ]
     },
     "execution_count": 298,
     "metadata": {},
     "output_type": "execute_result"
    }
   ],
   "source": [
    "# Соединяем строки горизонтально\n",
    "w = np.hstack((a, b))\n",
    "w"
   ]
  },
  {
   "cell_type": "code",
   "execution_count": 299,
   "id": "4e1e9cce",
   "metadata": {},
   "outputs": [
    {
     "data": {
      "text/plain": [
       "((2, 3), (2, 3), (2, 6))"
      ]
     },
     "execution_count": 299,
     "metadata": {},
     "output_type": "execute_result"
    }
   ],
   "source": [
    "a.shape, b.shape, w.shape"
   ]
  },
  {
   "cell_type": "code",
   "execution_count": 300,
   "id": "b6507a98",
   "metadata": {},
   "outputs": [
    {
     "data": {
      "text/plain": [
       "array([[[0., 1.],\n",
       "        [0., 1.],\n",
       "        [0., 1.]],\n",
       "\n",
       "       [[0., 1.],\n",
       "        [0., 1.],\n",
       "        [0., 1.]]])"
      ]
     },
     "execution_count": 300,
     "metadata": {},
     "output_type": "execute_result"
    }
   ],
   "source": [
    "# Соединение в глубину (в третьем измерении)\n",
    "r = np.dstack([a, b])\n",
    "r"
   ]
  },
  {
   "cell_type": "code",
   "execution_count": 301,
   "id": "902bfb44",
   "metadata": {},
   "outputs": [
    {
     "data": {
      "text/plain": [
       "(2, 3, 2)"
      ]
     },
     "execution_count": 301,
     "metadata": {},
     "output_type": "execute_result"
    }
   ],
   "source": [
    "r.shape"
   ]
  },
  {
   "cell_type": "markdown",
   "id": "823e08ef",
   "metadata": {},
   "source": [
    "## Выбор данных "
   ]
  },
  {
   "cell_type": "code",
   "execution_count": 302,
   "id": "dc07dbc6",
   "metadata": {},
   "outputs": [
    {
     "data": {
      "text/plain": [
       "array([15,  8,  5, 18, 11,  8, 16, 13, 11,  6])"
      ]
     },
     "execution_count": 302,
     "metadata": {},
     "output_type": "execute_result"
    }
   ],
   "source": [
    "a = np.random.randint(0, 20, 10)\n",
    "a"
   ]
  },
  {
   "cell_type": "code",
   "execution_count": 303,
   "id": "a613d183",
   "metadata": {},
   "outputs": [
    {
     "data": {
      "text/plain": [
       "array([15, 18, 11, 16, 13, 11])"
      ]
     },
     "execution_count": 303,
     "metadata": {},
     "output_type": "execute_result"
    }
   ],
   "source": [
    "a[a>10]"
   ]
  },
  {
   "cell_type": "code",
   "execution_count": 304,
   "id": "6df9c404",
   "metadata": {},
   "outputs": [
    {
     "data": {
      "text/plain": [
       "array([18, 16])"
      ]
     },
     "execution_count": 304,
     "metadata": {},
     "output_type": "execute_result"
    }
   ],
   "source": [
    "# Логическое \"и\" - &\n",
    "a[(a > 10) & (a % 2 == 0)]"
   ]
  },
  {
   "cell_type": "code",
   "execution_count": 305,
   "id": "d5099139",
   "metadata": {},
   "outputs": [
    {
     "data": {
      "text/plain": [
       "array([15, 18, 11, 16, 13, 11,  6])"
      ]
     },
     "execution_count": 305,
     "metadata": {},
     "output_type": "execute_result"
    }
   ],
   "source": [
    "# Логическое или \"|\"\n",
    "a[(a > 10) | (a % 3 == 0)]"
   ]
  },
  {
   "cell_type": "markdown",
   "id": "e0f8e697",
   "metadata": {},
   "source": [
    "#### numpy.where\n",
    "Возвращает индексы элементов, удовлетворяющих условию"
   ]
  },
  {
   "cell_type": "code",
   "execution_count": 306,
   "id": "c79850bc",
   "metadata": {},
   "outputs": [
    {
     "data": {
      "text/plain": [
       "array([15,  8,  5, 18, 11,  8, 16, 13, 11,  6])"
      ]
     },
     "execution_count": 306,
     "metadata": {},
     "output_type": "execute_result"
    }
   ],
   "source": [
    "a"
   ]
  },
  {
   "cell_type": "code",
   "execution_count": 307,
   "id": "14a93de6",
   "metadata": {},
   "outputs": [
    {
     "data": {
      "text/plain": [
       "(array([0, 3, 4, 6, 7, 8], dtype=int64),)"
      ]
     },
     "execution_count": 307,
     "metadata": {},
     "output_type": "execute_result"
    }
   ],
   "source": [
    "np.where(a>10)"
   ]
  },
  {
   "cell_type": "markdown",
   "id": "8a06fe3c",
   "metadata": {},
   "source": [
    "#### Вариан применения сложнее\n",
    "Если в условии True, то берем элемент из 1-го массива, если False, то из 2-го \n",
    "(В функции 3 аргумента, первый - маска)"
   ]
  },
  {
   "cell_type": "code",
   "execution_count": 308,
   "id": "361cb896",
   "metadata": {},
   "outputs": [],
   "source": [
    "a = [1, 2, 3]\n",
    "b = [4, 6, 8]"
   ]
  },
  {
   "cell_type": "code",
   "execution_count": 309,
   "id": "1adcfdb8",
   "metadata": {},
   "outputs": [
    {
     "data": {
      "text/plain": [
       "array([1, 6, 3])"
      ]
     },
     "execution_count": 309,
     "metadata": {},
     "output_type": "execute_result"
    }
   ],
   "source": [
    "np.where([True, False, True], a, b)"
   ]
  },
  {
   "cell_type": "markdown",
   "id": "0c1b5a1f",
   "metadata": {},
   "source": [
    "### Сортировка"
   ]
  },
  {
   "cell_type": "code",
   "execution_count": 310,
   "id": "fa301bb3",
   "metadata": {},
   "outputs": [],
   "source": [
    "a = np.array([[2, 2, 3, 4],\n",
    "             [1, 5, 7, 8],\n",
    "             [12, 21, 9, 6]])"
   ]
  },
  {
   "cell_type": "code",
   "execution_count": 311,
   "id": "86a0020e",
   "metadata": {},
   "outputs": [
    {
     "data": {
      "text/plain": [
       "array([[ 1,  5,  7,  8],\n",
       "       [ 2,  2,  3,  4],\n",
       "       [12, 21,  9,  6]])"
      ]
     },
     "execution_count": 311,
     "metadata": {},
     "output_type": "execute_result"
    }
   ],
   "source": [
    "# Указываем порядок строк для всех столбцов по первому\n",
    "a[[1, 0, 2], :]"
   ]
  },
  {
   "cell_type": "code",
   "execution_count": 312,
   "id": "2f3406b8",
   "metadata": {},
   "outputs": [
    {
     "data": {
      "text/plain": [
       "array([1, 0, 2], dtype=int64)"
      ]
     },
     "execution_count": 312,
     "metadata": {},
     "output_type": "execute_result"
    }
   ],
   "source": [
    "# Метод возвращает индексы массива сортировки строк по первому столбцу\n",
    "a[:,0].argsort()"
   ]
  },
  {
   "cell_type": "code",
   "execution_count": 313,
   "id": "7d1dcf0e",
   "metadata": {},
   "outputs": [
    {
     "data": {
      "text/plain": [
       "array([[ 1,  5,  7,  8],\n",
       "       [ 2,  2,  3,  4],\n",
       "       [12, 21,  9,  6]])"
      ]
     },
     "execution_count": 313,
     "metadata": {},
     "output_type": "execute_result"
    }
   ],
   "source": [
    "# (через срез) Указываем порядок вывода строк для всех столбцов, \n",
    "# через метод argsort(сортировка для всех строк по 1-ому столбцу)\n",
    "a[a[:,0].argsort(),:]"
   ]
  },
  {
   "cell_type": "markdown",
   "id": "ffe1056b",
   "metadata": {},
   "source": [
    "### Случайное перемешивание массивов"
   ]
  },
  {
   "cell_type": "code",
   "execution_count": 314,
   "id": "87267583",
   "metadata": {},
   "outputs": [
    {
     "data": {
      "text/plain": [
       "array([0, 1, 2, 3, 4, 5, 6, 7, 8, 9])"
      ]
     },
     "execution_count": 314,
     "metadata": {},
     "output_type": "execute_result"
    }
   ],
   "source": [
    "a = np.arange(10)\n",
    "a"
   ]
  },
  {
   "cell_type": "code",
   "execution_count": 315,
   "id": "ab2203ca",
   "metadata": {},
   "outputs": [
    {
     "data": {
      "text/plain": [
       "array([9, 1, 6, 4, 0, 5, 8, 2, 7, 3])"
      ]
     },
     "execution_count": 315,
     "metadata": {},
     "output_type": "execute_result"
    }
   ],
   "source": [
    "np.random.shuffle(a)\n",
    "a"
   ]
  },
  {
   "cell_type": "markdown",
   "id": "51845979",
   "metadata": {},
   "source": [
    "Двумерные массивы"
   ]
  },
  {
   "cell_type": "code",
   "execution_count": 316,
   "id": "86ac4fd7",
   "metadata": {},
   "outputs": [
    {
     "data": {
      "text/plain": [
       "array([[ 0,  1,  2,  3],\n",
       "       [ 4,  5,  6,  7],\n",
       "       [ 8,  9, 10, 11]])"
      ]
     },
     "execution_count": 316,
     "metadata": {},
     "output_type": "execute_result"
    }
   ],
   "source": [
    "b = np.arange(12).reshape(3, 4)\n",
    "b"
   ]
  },
  {
   "cell_type": "code",
   "execution_count": 317,
   "id": "effb12e2",
   "metadata": {},
   "outputs": [
    {
     "data": {
      "text/plain": [
       "array([[ 8,  9, 10, 11],\n",
       "       [ 4,  5,  6,  7],\n",
       "       [ 0,  1,  2,  3]])"
      ]
     },
     "execution_count": 317,
     "metadata": {},
     "output_type": "execute_result"
    }
   ],
   "source": [
    "# В двухмерных массивах перемешиваются только строки\n",
    "np.random.shuffle(b)\n",
    "b"
   ]
  },
  {
   "cell_type": "markdown",
   "id": "fe7b355b",
   "metadata": {},
   "source": [
    "### Математические функции ко всему массиву"
   ]
  },
  {
   "cell_type": "code",
   "execution_count": 318,
   "id": "3e5059a4",
   "metadata": {},
   "outputs": [
    {
     "data": {
      "text/plain": [
       "array([[1, 2, 3],\n",
       "       [4, 5, 6]])"
      ]
     },
     "execution_count": 318,
     "metadata": {},
     "output_type": "execute_result"
    }
   ],
   "source": [
    "a = np.arange(1,7).reshape(2, 3)\n",
    "a"
   ]
  },
  {
   "cell_type": "code",
   "execution_count": 319,
   "id": "78c000aa",
   "metadata": {},
   "outputs": [
    {
     "data": {
      "text/plain": [
       "array([[0.        , 0.69314718, 1.09861229],\n",
       "       [1.38629436, 1.60943791, 1.79175947]])"
      ]
     },
     "execution_count": 319,
     "metadata": {},
     "output_type": "execute_result"
    }
   ],
   "source": [
    "# Находим Логарифм по основанию е\n",
    "np.log(a)"
   ]
  },
  {
   "cell_type": "code",
   "execution_count": 320,
   "id": "2aefe625",
   "metadata": {},
   "outputs": [
    {
     "data": {
      "text/plain": [
       "array([[  2.71828183,   7.3890561 ,  20.08553692],\n",
       "       [ 54.59815003, 148.4131591 , 403.42879349]])"
      ]
     },
     "execution_count": 320,
     "metadata": {},
     "output_type": "execute_result"
    }
   ],
   "source": [
    "# Экспонента\n",
    "np.exp(a)"
   ]
  },
  {
   "cell_type": "code",
   "execution_count": 321,
   "id": "ff9061be",
   "metadata": {},
   "outputs": [
    {
     "data": {
      "text/plain": [
       "21"
      ]
     },
     "execution_count": 321,
     "metadata": {},
     "output_type": "execute_result"
    }
   ],
   "source": [
    "a.sum()"
   ]
  },
  {
   "cell_type": "code",
   "execution_count": 322,
   "id": "af676ada",
   "metadata": {},
   "outputs": [
    {
     "data": {
      "text/plain": [
       "array([5, 7, 9])"
      ]
     },
     "execution_count": 322,
     "metadata": {},
     "output_type": "execute_result"
    }
   ],
   "source": [
    "# Сумма по столбцам\n",
    "a.sum(axis = 0)"
   ]
  },
  {
   "cell_type": "code",
   "execution_count": 323,
   "id": "81202c38",
   "metadata": {},
   "outputs": [
    {
     "data": {
      "text/plain": [
       "array([[1, 2, 3],\n",
       "       [4, 5, 6]])"
      ]
     },
     "execution_count": 323,
     "metadata": {},
     "output_type": "execute_result"
    }
   ],
   "source": [
    "a"
   ]
  },
  {
   "cell_type": "code",
   "execution_count": 324,
   "id": "033fa30b",
   "metadata": {},
   "outputs": [
    {
     "data": {
      "text/plain": [
       "array([[11, 12, 13],\n",
       "       [14, 15, 16]])"
      ]
     },
     "execution_count": 324,
     "metadata": {},
     "output_type": "execute_result"
    }
   ],
   "source": [
    "a + 10"
   ]
  },
  {
   "cell_type": "code",
   "execution_count": 325,
   "id": "497f7150",
   "metadata": {},
   "outputs": [
    {
     "data": {
      "text/plain": [
       "array([[ 0,  1,  2,  3],\n",
       "       [ 4,  5,  6,  7],\n",
       "       [ 8,  9, 10, 11]])"
      ]
     },
     "execution_count": 325,
     "metadata": {},
     "output_type": "execute_result"
    }
   ],
   "source": [
    "a = np.arange(12).reshape(3, 4)\n",
    "a"
   ]
  },
  {
   "cell_type": "code",
   "execution_count": 326,
   "id": "aaf8965f",
   "metadata": {},
   "outputs": [
    {
     "data": {
      "text/plain": [
       "array([[13, 14, 15, 16],\n",
       "       [17, 18, 19, 20],\n",
       "       [21, 22, 23, 24]])"
      ]
     },
     "execution_count": 326,
     "metadata": {},
     "output_type": "execute_result"
    }
   ],
   "source": [
    "b = np.arange(13, 25).reshape(3, 4)\n",
    "b"
   ]
  },
  {
   "cell_type": "code",
   "execution_count": 327,
   "id": "6b1d9015",
   "metadata": {},
   "outputs": [
    {
     "data": {
      "text/plain": [
       "array([[  0,  14,  30,  48],\n",
       "       [ 68,  90, 114, 140],\n",
       "       [168, 198, 230, 264]])"
      ]
     },
     "execution_count": 327,
     "metadata": {},
     "output_type": "execute_result"
    }
   ],
   "source": [
    "a * b"
   ]
  },
  {
   "cell_type": "markdown",
   "id": "ffbfaef1",
   "metadata": {},
   "source": [
    "### Broadcasting (на примере сложения)"
   ]
  },
  {
   "cell_type": "code",
   "execution_count": 328,
   "id": "f10a8d03",
   "metadata": {},
   "outputs": [],
   "source": [
    "a = np.array([[1, 2],\n",
    "             [3, 4],\n",
    "             [5, 6]])\n",
    "\n",
    "b = np.array([1, 2])\n"
   ]
  },
  {
   "cell_type": "code",
   "execution_count": 329,
   "id": "e340d5c8",
   "metadata": {},
   "outputs": [
    {
     "data": {
      "text/plain": [
       "array([[2, 4],\n",
       "       [4, 6],\n",
       "       [6, 8]])"
      ]
     },
     "execution_count": 329,
     "metadata": {},
     "output_type": "execute_result"
    }
   ],
   "source": [
    "# В данном примере не совпадает количество строк, поэтому матрица b будет прибавляться к каждой строке матрицы a\n",
    "a + b"
   ]
  },
  {
   "cell_type": "code",
   "execution_count": 330,
   "id": "2cb2d023",
   "metadata": {},
   "outputs": [],
   "source": [
    "c = np.array([[1],\n",
    "             [2],\n",
    "             [3]])"
   ]
  },
  {
   "cell_type": "code",
   "execution_count": 331,
   "id": "a3f853e3",
   "metadata": {},
   "outputs": [
    {
     "data": {
      "text/plain": [
       "array([[2, 3],\n",
       "       [5, 6],\n",
       "       [8, 9]])"
      ]
     },
     "execution_count": 331,
     "metadata": {},
     "output_type": "execute_result"
    }
   ],
   "source": [
    "# Здесь матрица с будет прибавляться к каждому столбцу матрицы а\n",
    "c + a"
   ]
  },
  {
   "cell_type": "markdown",
   "id": "a734204d",
   "metadata": {},
   "source": [
    "### Статистические функции"
   ]
  },
  {
   "cell_type": "code",
   "execution_count": 332,
   "id": "643d4705",
   "metadata": {},
   "outputs": [
    {
     "data": {
      "text/plain": [
       "array([[ 4,  5, 10,  5],\n",
       "       [ 6,  5,  4,  1],\n",
       "       [ 7, 10,  8, 11]])"
      ]
     },
     "execution_count": 332,
     "metadata": {},
     "output_type": "execute_result"
    }
   ],
   "source": [
    "a = np.random.randint(1, 12,(3, 4))\n",
    "a"
   ]
  },
  {
   "cell_type": "code",
   "execution_count": 333,
   "id": "bb5915a7",
   "metadata": {},
   "outputs": [
    {
     "data": {
      "text/plain": [
       "1"
      ]
     },
     "execution_count": 333,
     "metadata": {},
     "output_type": "execute_result"
    }
   ],
   "source": [
    "# минимум для матрицы\n",
    "a.min()"
   ]
  },
  {
   "cell_type": "code",
   "execution_count": 334,
   "id": "992c1428",
   "metadata": {},
   "outputs": [
    {
     "data": {
      "text/plain": [
       "11"
      ]
     },
     "execution_count": 334,
     "metadata": {},
     "output_type": "execute_result"
    }
   ],
   "source": [
    "a.max()"
   ]
  },
  {
   "cell_type": "code",
   "execution_count": 335,
   "id": "0d29f53e",
   "metadata": {},
   "outputs": [
    {
     "data": {
      "text/plain": [
       "array([4, 5, 4, 1])"
      ]
     },
     "execution_count": 335,
     "metadata": {},
     "output_type": "execute_result"
    }
   ],
   "source": [
    "# Минимум для каждого столбца\n",
    "a.min(axis = 0)"
   ]
  },
  {
   "cell_type": "code",
   "execution_count": 336,
   "id": "e6cc6788",
   "metadata": {},
   "outputs": [
    {
     "data": {
      "text/plain": [
       "array([10,  6, 11])"
      ]
     },
     "execution_count": 336,
     "metadata": {},
     "output_type": "execute_result"
    }
   ],
   "source": [
    "# Максимум для каждой строки\n",
    "a.max(axis = 1)"
   ]
  },
  {
   "cell_type": "code",
   "execution_count": 337,
   "id": "7372b02f",
   "metadata": {},
   "outputs": [
    {
     "data": {
      "text/plain": [
       "array([5.66666667, 6.66666667, 7.33333333, 5.66666667])"
      ]
     },
     "execution_count": 337,
     "metadata": {},
     "output_type": "execute_result"
    }
   ],
   "source": [
    "# Среднее значение для каждого столбца\n",
    "a.mean(axis = 0)"
   ]
  },
  {
   "cell_type": "code",
   "execution_count": 338,
   "id": "18db0d1b",
   "metadata": {},
   "outputs": [
    {
     "data": {
      "text/plain": [
       "array([1.24721913, 2.3570226 , 2.49443826, 4.10960934])"
      ]
     },
     "execution_count": 338,
     "metadata": {},
     "output_type": "execute_result"
    }
   ],
   "source": [
    "# Среднеквадратичное отклонение\n",
    "a.std(axis = 0)"
   ]
  },
  {
   "cell_type": "markdown",
   "id": "3a120247",
   "metadata": {},
   "source": [
    "### Запись и чтение массива из файла"
   ]
  },
  {
   "cell_type": "code",
   "execution_count": 339,
   "id": "13d7f69d",
   "metadata": {},
   "outputs": [],
   "source": [
    "# Запись массива в файл и сохранение\n",
    "np.save('a.npy', a)"
   ]
  },
  {
   "cell_type": "code",
   "execution_count": 340,
   "id": "bb0e6651",
   "metadata": {},
   "outputs": [],
   "source": [
    "# Чтение массива из файла\n",
    "b = np.load('a.npy')"
   ]
  },
  {
   "cell_type": "code",
   "execution_count": 341,
   "id": "fd1b37bc",
   "metadata": {},
   "outputs": [
    {
     "data": {
      "text/plain": [
       "array([[ 4,  5, 10,  5],\n",
       "       [ 6,  5,  4,  1],\n",
       "       [ 7, 10,  8, 11]])"
      ]
     },
     "execution_count": 341,
     "metadata": {},
     "output_type": "execute_result"
    }
   ],
   "source": [
    "b"
   ]
  }
 ],
 "metadata": {
  "kernelspec": {
   "display_name": "Python 3 (ipykernel)",
   "language": "python",
   "name": "python3"
  },
  "language_info": {
   "codemirror_mode": {
    "name": "ipython",
    "version": 3
   },
   "file_extension": ".py",
   "mimetype": "text/x-python",
   "name": "python",
   "nbconvert_exporter": "python",
   "pygments_lexer": "ipython3",
   "version": "3.11.5"
  }
 },
 "nbformat": 4,
 "nbformat_minor": 5
}
